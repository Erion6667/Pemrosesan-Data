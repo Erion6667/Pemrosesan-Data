{
 "cells": [
  {
   "cell_type": "code",
   "execution_count": 2,
   "metadata": {},
   "outputs": [],
   "source": [
    "import cv2\n",
    "import numpy as np\n",
    "img = cv2.imread(\"C:/Users/bayuk/OneDrive/Documents/AI/pens/smtr2/Pemrosesan Data/3/bayu1.jpg\")\n",
    "# cv2.imshow('bayu', img)\n",
    "# cv2.waitKey()\n",
    "cv2.imshow('bayu0', img[:,:,0])\n",
    "np.savetxt(\"C:/Users/bayuk/OneDrive/Documents/AI/pens/smtr2/Pemrosesan Data/4/WarnaBiru.csv\", img.reshape((3, -1)), delimiter=',')\n",
    "cv2.waitKey()\n",
    "cv2.imshow('bayu1', img[:,:,1])\n",
    "np.savetxt(\"C:/Users/bayuk/OneDrive/Documents/AI/pens/smtr2/Pemrosesan Data/4/WarnaHijau.csv\", img.reshape((3, -1)), delimiter=',')\n",
    "cv2.waitKey()\n",
    "cv2.imshow('bayu2', img[:,:,2])\n",
    "np.savetxt(\"C:/Users/bayuk/OneDrive/Documents/AI/pens/smtr2/Pemrosesan Data/4/WarnaMerah.csv\", img.reshape((3, -1)), delimiter=',')\n",
    "cv2.waitKey()\n",
    "cv2.destroyAllWindows()"
   ]
  },
  {
   "cell_type": "code",
   "execution_count": 7,
   "metadata": {},
   "outputs": [
    {
     "data": {
      "text/plain": [
       "113"
      ]
     },
     "execution_count": 7,
     "metadata": {},
     "output_type": "execute_result"
    },
    {
     "ename": "",
     "evalue": "",
     "output_type": "error",
     "traceback": [
      "\u001b[1;31mThe Kernel crashed while executing code in the the current cell or a previous cell. Please review the code in the cell(s) to identify a possible cause of the failure. Click <a href='https://aka.ms/vscodeJupyterKernelCrash'>here</a> for more info. View Jupyter <a href='command:jupyter.viewOutput'>log</a> for further details."
     ]
    }
   ],
   "source": [
    "img=cv2.imread(\"C:/Users/bayuk/OneDrive/Documents/AI/pens/smtr2/Pemrosesan Data/3/bayu1.jpg\")\n",
    "imageGray = cv2.cvtColor(img, cv2.COLOR_BGR2GRAY)\n",
    "cv2.imshow(\"hasil Gray\",imageGray)\n",
    "np.savetxt(\"C:/Users/bayuk/OneDrive/Documents/AI/pens/smtr2/Pemrosesan Data/4/CitraGray.csv\", imageGray.reshape((3, -1)), delimiter=',')\n",
    "cv2.waitKey()"
   ]
  },
  {
   "cell_type": "code",
   "execution_count": 7,
   "metadata": {},
   "outputs": [],
   "source": [
    "import cv2\n",
    "import numpy as np\n",
    "img=cv2.imread(\"C:/Users/bayuk/OneDrive/Documents/AI/pens/smtr2/Pemrosesan Data/3/bayu1.jpg\")\n",
    "cv2.imshow('Hasil Inversi',img)\n",
    "hasil = 255-img\n",
    "cv2.imshow('Hasil Inversi',hasil)\n",
    "np.savetxt(\"C:/Users/bayuk/OneDrive/Documents/AI/pens/smtr2/Pemrosesan Data/4/Citraklise.csv\", hasil.reshape((3, -1)), delimiter=',')\n",
    "cv2.waitKey(0)\n",
    "cv2.destroyAllWindows()"
   ]
  },
  {
   "cell_type": "code",
   "execution_count": 6,
   "metadata": {},
   "outputs": [],
   "source": [
    "from PIL import Image\n",
    "import numpy as np\n",
    "file = \"C:/Users/bayuk/OneDrive/Documents/AI/pens/smtr2/Pemrosesan Data/3/bayu1.jpg\"\n",
    "img = Image.open(file)\n",
    "img.convert(\"1\")\n",
    "img.show(\"hasil Hitam Putih\")\n",
    "np.savetxt(\"C:/Users/bayuk/OneDrive/Documents/AI/pens/smtr2/Pemrosesan Data/4/CitraHitamPutih.csv\", img)"
   ]
  },
  {
   "cell_type": "code",
   "execution_count": 2,
   "metadata": {},
   "outputs": [],
   "source": [
    "import cv2 \n",
    "cap = cv2.VideoCapture(0)\n",
    "while(True):\n",
    "    ret, frame = cap.read() \n",
    "    gray = cv2.cvtColor(frame, cv2.COLOR_BGR2GRAY)\n",
    "    biner = gray.copy()\n",
    "    biner[biner>70]=255\n",
    "    biner[biner<70]=0\n",
    "\n",
    "    cv2.imshow('Frame Ori',frame)\n",
    "    cv2.imshow('Frame gray',gray)\n",
    "    cv2.imshow('Frame BW',biner)\n",
    "    if cv2.waitKey(1) & 0xFF == ord('q'):\n",
    "        break\n",
    "cap.release()\n",
    "cv2.destroyAllWindows()"
   ]
  },
  {
   "cell_type": "code",
   "execution_count": 15,
   "metadata": {},
   "outputs": [],
   "source": [
    "import cv2\n",
    "cam=cv2.VideoCapture(0)\n",
    "cam.set(3,640)\n",
    "cam.set(4,480)\n",
    "faceDetector=cv2.CascadeClassifier('C:/Users/bayuk/OneDrive/Documents/AI/pens/smtr2/Pemrosesan Data/4/haarcascade_frontalface_default.xml')\n",
    "while True:\n",
    "    retV, frame=cam.read()\n",
    "    gray=cv2.cvtColor(frame,cv2.COLOR_BGR2GRAY)\n",
    "    faces=faceDetector.detectMultiScale(gray,1.3,5)\n",
    "    for(x,y,w,h) in faces:\n",
    "        frame=cv2.rectangle(frame,(x,y),(x+w,y+h),(0,0,255),2)  \n",
    "    cv2.imshow(\"Web Camera Warna\",frame)  #warna aslinya\n",
    "    #cv2.imshow(\"Web Camera Gray\",gray)  #warna abu-abu\n",
    "    k=cv2.waitKey(1) & 0xFF\n",
    "    if k==27 or k==ord('q'):\n",
    "        break\n",
    "cam.release()\n",
    "cv2.destroyAllWindows()\n"
   ]
  }
 ],
 "metadata": {
  "kernelspec": {
   "display_name": "Python 3",
   "language": "python",
   "name": "python3"
  },
  "language_info": {
   "codemirror_mode": {
    "name": "ipython",
    "version": 3
   },
   "file_extension": ".py",
   "mimetype": "text/x-python",
   "name": "python",
   "nbconvert_exporter": "python",
   "pygments_lexer": "ipython3",
   "version": "3.10.10"
  },
  "orig_nbformat": 4
 },
 "nbformat": 4,
 "nbformat_minor": 2
}
