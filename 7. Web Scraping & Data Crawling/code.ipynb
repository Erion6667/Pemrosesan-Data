{
 "cells": [
  {
   "cell_type": "code",
   "execution_count": 20,
   "id": "fe836f8b",
   "metadata": {},
   "outputs": [
    {
     "name": "stdout",
     "output_type": "stream",
     "text": [
      "data telah tersimpan\n",
      "                                          Nama Barang        Harga  \\\n",
      "0   Sepatu golf BOA adidas Solarmotion golf shoes ...  Rp4.299.000   \n",
      "1   Sepatu Bola Adidas Copa Pure.4 FxG - Owhite GY...    Rp640.000   \n",
      "2   Bayar ditempat/Sepatu Futsal Adidas Copa Best ...    Rp125.000   \n",
      "3   Sepatu golf Adidas BOA Codechaos Boost Golf sh...  Rp4.899.000   \n",
      "4   SEPATU ADIDAS SPEZIAL SAMBA GRADE ORIGINAL 100...    Rp179.000   \n",
      "..                                                ...          ...   \n",
      "75          Sepatu Adidas Alphabounce Instinct M Grey    Rp550.000   \n",
      "76  Sepatu Lari Pria Adidas Ultrabounce White - HP...  Rp1.170.000   \n",
      "77  Sepatu Adidas Ultra Boost 2020 ISS US National...    Rp480.000   \n",
      "78  promo sepatu anak adidas kidz buat sekolah Tk/...     Rp80.746   \n",
      "79          Sepatu Adidas forum 84 white navy - S, 40    Rp900.000   \n",
      "\n",
      "          Terjual           Lokasi  \n",
      "0               -  Jakarta Selatan  \n",
      "1               -      Kab. Sleman  \n",
      "2   Terjual 2 rb+   Kab. Tangerang  \n",
      "3               -  Jakarta Selatan  \n",
      "4    Terjual 500+   Kab. Tangerang  \n",
      "..            ...              ...  \n",
      "75    Terjual 60+  Jakarta Selatan  \n",
      "76              -          Bandung  \n",
      "77      Terjual 6  Jakarta Selatan  \n",
      "78    Terjual 60+   Kab. Tangerang  \n",
      "79              -  Jakarta Selatan  \n",
      "\n",
      "[80 rows x 4 columns]\n"
     ]
    }
   ],
   "source": [
    "import time \n",
    "from selenium import webdriver\n",
    "from bs4 import BeautifulSoup as soup\n",
    "import pandas as pd\n",
    "from selenium.webdriver.support.ui import WebDriverWait\n",
    "from selenium.webdriver.support import expected_conditions as EC\n",
    "from selenium.webdriver.common.by import By\n",
    "\n",
    "url = 'https://www.tokopedia.com/search?q=sepatu+adidas&source=universe&st=product&srp_component_id=02.02.02.01'\n",
    "driver = webdriver.Chrome()\n",
    "driver.get(url)\n",
    "\n",
    "WebDriverWait(driver, 5).until(EC.presence_of_all_elements_located((By.CSS_SELECTOR, '#zeus-root')))\n",
    "time.sleep(2)\n",
    "for i in range(21):\n",
    "    driver.execute_script('window.scrollBy(0, 250)')\n",
    "    time.sleep(1)\n",
    "    \n",
    "driver.execute_script('window.scrollBy(50, 0)')\n",
    "time.sleep(1)\n",
    "soup1 = soup(driver.page_source, 'html.parser')\n",
    "\n",
    "data = []\n",
    "for item in soup1.findAll('div', class_='css-974ipl'):\n",
    "    nama_produk = item.find('div', class_='prd_link-product-name css-3um8ox').text\n",
    "    harga_produk = item.find('div', class_='prd_link-product-price css-1ksb19c').text\n",
    "\n",
    "    rtg = item.findAll('span', class_='css-t70v7i')\n",
    "    tjl = item.findAll('span', class_='css-1duhs3e')\n",
    "    if len(rtg) > 0:\n",
    "        terjual = item.find('span', class_='css-1duhs3e').text\n",
    "    else:\n",
    "        terjual = '-'\n",
    "\n",
    "    for item2 in item.findAll('div', class_='css-1rn0irl'):\n",
    "        lokasi = item2.findAll('span', class_='css-1kdc32b')[0].text\n",
    "        \n",
    "        data.append((nama_produk, harga_produk, terjual, lokasi))\n",
    "toped = pd.DataFrame(data, columns=['Nama Barang', 'Harga', 'Terjual', 'Lokasi'])\n",
    "toped.to_csv('C:/Users/bayuk/OneDrive/Documents/AI/pens/smtr2/Pemrosesan Data/12/toped.csv',index=False)\n",
    "print('data telah tersimpan')\n",
    "print(toped)\n",
    "driver.close()"
   ]
  },
  {
   "cell_type": "code",
   "execution_count": 36,
   "id": "ebba3061",
   "metadata": {},
   "outputs": [
    {
     "data": {
      "text/html": [
       "<div>\n",
       "<style scoped>\n",
       "    .dataframe tbody tr th:only-of-type {\n",
       "        vertical-align: middle;\n",
       "    }\n",
       "\n",
       "    .dataframe tbody tr th {\n",
       "        vertical-align: top;\n",
       "    }\n",
       "\n",
       "    .dataframe thead th {\n",
       "        text-align: right;\n",
       "    }\n",
       "</style>\n",
       "<table border=\"1\" class=\"dataframe\">\n",
       "  <thead>\n",
       "    <tr style=\"text-align: right;\">\n",
       "      <th></th>\n",
       "      <th>Nama Barang</th>\n",
       "      <th>Harga</th>\n",
       "      <th>Terjual</th>\n",
       "      <th>Lokasi</th>\n",
       "    </tr>\n",
       "  </thead>\n",
       "  <tbody>\n",
       "    <tr>\n",
       "      <th>0</th>\n",
       "      <td>Sepatu golf BOA adidas Solarmotion golf shoes ...</td>\n",
       "      <td>4299.0</td>\n",
       "      <td>-</td>\n",
       "      <td>Jakarta Selatan</td>\n",
       "    </tr>\n",
       "    <tr>\n",
       "      <th>1</th>\n",
       "      <td>Sepatu Bola Adidas Copa Pure.4 FxG - Owhite GY...</td>\n",
       "      <td>640.0</td>\n",
       "      <td>-</td>\n",
       "      <td>Kab. Sleman</td>\n",
       "    </tr>\n",
       "    <tr>\n",
       "      <th>2</th>\n",
       "      <td>Bayar ditempat/Sepatu Futsal Adidas Copa Best ...</td>\n",
       "      <td>125.0</td>\n",
       "      <td>Terjual 2 rb+</td>\n",
       "      <td>Kab. Tangerang</td>\n",
       "    </tr>\n",
       "    <tr>\n",
       "      <th>3</th>\n",
       "      <td>Sepatu golf Adidas BOA Codechaos Boost Golf sh...</td>\n",
       "      <td>4899.0</td>\n",
       "      <td>-</td>\n",
       "      <td>Jakarta Selatan</td>\n",
       "    </tr>\n",
       "    <tr>\n",
       "      <th>4</th>\n",
       "      <td>SEPATU ADIDAS SPEZIAL SAMBA GRADE ORIGINAL 100...</td>\n",
       "      <td>179.0</td>\n",
       "      <td>Terjual 500+</td>\n",
       "      <td>Kab. Tangerang</td>\n",
       "    </tr>\n",
       "  </tbody>\n",
       "</table>\n",
       "</div>"
      ],
      "text/plain": [
       "                                         Nama Barang   Harga        Terjual  \\\n",
       "0  Sepatu golf BOA adidas Solarmotion golf shoes ...  4299.0              -   \n",
       "1  Sepatu Bola Adidas Copa Pure.4 FxG - Owhite GY...   640.0              -   \n",
       "2  Bayar ditempat/Sepatu Futsal Adidas Copa Best ...   125.0  Terjual 2 rb+   \n",
       "3  Sepatu golf Adidas BOA Codechaos Boost Golf sh...  4899.0              -   \n",
       "4  SEPATU ADIDAS SPEZIAL SAMBA GRADE ORIGINAL 100...   179.0   Terjual 500+   \n",
       "\n",
       "            Lokasi  \n",
       "0  Jakarta Selatan  \n",
       "1      Kab. Sleman  \n",
       "2   Kab. Tangerang  \n",
       "3  Jakarta Selatan  \n",
       "4   Kab. Tangerang  "
      ]
     },
     "execution_count": 36,
     "metadata": {},
     "output_type": "execute_result"
    }
   ],
   "source": [
    "datatoped = pd.read_csv('C:/Users/bayuk/OneDrive/Documents/AI/pens/smtr2/Pemrosesan Data/12/toped.csv')\n",
    "datatoped['Harga'] = datatoped['Harga'].str.replace('Rp', '')\n",
    "datatoped['Harga'] = datatoped['Harga'].astype(float)\n",
    "datatoped.head()"
   ]
  },
  {
   "cell_type": "code",
   "execution_count": 37,
   "id": "09f70f3d",
   "metadata": {},
   "outputs": [
    {
     "data": {
      "text/html": [
       "<div>\n",
       "<style scoped>\n",
       "    .dataframe tbody tr th:only-of-type {\n",
       "        vertical-align: middle;\n",
       "    }\n",
       "\n",
       "    .dataframe tbody tr th {\n",
       "        vertical-align: top;\n",
       "    }\n",
       "\n",
       "    .dataframe thead th {\n",
       "        text-align: right;\n",
       "    }\n",
       "</style>\n",
       "<table border=\"1\" class=\"dataframe\">\n",
       "  <thead>\n",
       "    <tr style=\"text-align: right;\">\n",
       "      <th></th>\n",
       "      <th>col-xs-2-4 href</th>\n",
       "      <th>Nama Barang</th>\n",
       "      <th>vioxXd</th>\n",
       "      <th>Harga</th>\n",
       "      <th>Terjual</th>\n",
       "      <th>Lokasi</th>\n",
       "    </tr>\n",
       "  </thead>\n",
       "  <tbody>\n",
       "    <tr>\n",
       "      <th>0</th>\n",
       "      <td>https://shopee.co.id/BRODO-Vulcan-Hi-Olive-OWS...</td>\n",
       "      <td>BRODO - Vulcan Hi Olive OWS</td>\n",
       "      <td>Rp448.000</td>\n",
       "      <td>295.000</td>\n",
       "      <td>33 Terjual</td>\n",
       "      <td>KOTA BANDUNG</td>\n",
       "    </tr>\n",
       "    <tr>\n",
       "      <th>1</th>\n",
       "      <td>https://shopee.co.id/Vans-Old-Skool-Classic-Na...</td>\n",
       "      <td>Vans Old Skool Classic Navy White - BNIB ORIGINAL</td>\n",
       "      <td>Rp700.000</td>\n",
       "      <td>499.000</td>\n",
       "      <td>5 Terjual</td>\n",
       "      <td>KAB. SLEMAN</td>\n",
       "    </tr>\n",
       "    <tr>\n",
       "      <th>2</th>\n",
       "      <td>https://shopee.co.id/SEPATU-VANS-OLD-SKOOL-CLA...</td>\n",
       "      <td>SEPATU VANS OLD SKOOL CLASSIC BLACK WHITE RESM...</td>\n",
       "      <td>Rp1.100.000</td>\n",
       "      <td>999.999</td>\n",
       "      <td>1 Terjual</td>\n",
       "      <td>KAB. SLEMAN</td>\n",
       "    </tr>\n",
       "    <tr>\n",
       "      <th>3</th>\n",
       "      <td>https://shopee.co.id/GIFLY-Mijin-Sneakers-Wani...</td>\n",
       "      <td>GIFLY Mijin Sneakers Wanita Sepatu Sport Shoes...</td>\n",
       "      <td>Rp499.000</td>\n",
       "      <td>169.000</td>\n",
       "      <td>288 Terjual</td>\n",
       "      <td>KAB. TANGERANG</td>\n",
       "    </tr>\n",
       "    <tr>\n",
       "      <th>4</th>\n",
       "      <td>https://shopee.co.id/SEPATU-ADIDAS-GRAND-COURT...</td>\n",
       "      <td>SEPATU ADIDAS GRAND COURT SE FULLWHITE ORIGINA...</td>\n",
       "      <td>0</td>\n",
       "      <td>280.000</td>\n",
       "      <td>126 Terjual</td>\n",
       "      <td>KOTA TANGERANG SELATAN</td>\n",
       "    </tr>\n",
       "    <tr>\n",
       "      <th>5</th>\n",
       "      <td>https://shopee.co.id/BRODO-X-Dian-Sastro-Sneak...</td>\n",
       "      <td>BRODO X Dian Sastro - Sneakers VTG V2 Wanita C...</td>\n",
       "      <td>Rp549.000</td>\n",
       "      <td>494.000</td>\n",
       "      <td>56 Terjual</td>\n",
       "      <td>KOTA BANDUNG</td>\n",
       "    </tr>\n",
       "    <tr>\n",
       "      <th>6</th>\n",
       "      <td>https://shopee.co.id/BRODO-Sneakers-VTG-V2-Hi-...</td>\n",
       "      <td>BRODO - Sneakers VTG V2 Hi Limestone Grey IS</td>\n",
       "      <td>Rp688.000</td>\n",
       "      <td>429.000</td>\n",
       "      <td>86 Terjual</td>\n",
       "      <td>KOTA BANDUNG</td>\n",
       "    </tr>\n",
       "    <tr>\n",
       "      <th>7</th>\n",
       "      <td>https://shopee.co.id/Adidas-TENNIS-Grand-Court...</td>\n",
       "      <td>Adidas TENNIS Grand Court SE Shoes Pria Putih ...</td>\n",
       "      <td>Rp1.100.000</td>\n",
       "      <td>495.000</td>\n",
       "      <td>3 Terjual</td>\n",
       "      <td>KOTA YOGYAKARTA</td>\n",
       "    </tr>\n",
       "    <tr>\n",
       "      <th>8</th>\n",
       "      <td>https://shopee.co.id/Adidas-TENNIS-Sepatu-Cour...</td>\n",
       "      <td>Adidas TENNIS Sepatu Court Lifestyle Vegan Nov...</td>\n",
       "      <td>Rp1.100.000</td>\n",
       "      <td>407.000</td>\n",
       "      <td>9 Terjual</td>\n",
       "      <td>KOTA YOGYAKARTA</td>\n",
       "    </tr>\n",
       "    <tr>\n",
       "      <th>9</th>\n",
       "      <td>https://shopee.co.id/ADIDAS-TENNIS-H02062-GRAN...</td>\n",
       "      <td>ADIDAS TENNIS H02062 GRAND COURT</td>\n",
       "      <td>0</td>\n",
       "      <td>540.750</td>\n",
       "      <td>4 Terjual</td>\n",
       "      <td>KOTA SURABAYA</td>\n",
       "    </tr>\n",
       "    <tr>\n",
       "      <th>10</th>\n",
       "      <td>https://shopee.co.id/BRODO-Vantage-V2-Hi-Natur...</td>\n",
       "      <td>BRODO - Vantage V2 Hi Natural White WS</td>\n",
       "      <td>Rp445.000</td>\n",
       "      <td>375.000</td>\n",
       "      <td>3RB Terjual</td>\n",
       "      <td>KOTA BANDUNG</td>\n",
       "    </tr>\n",
       "    <tr>\n",
       "      <th>11</th>\n",
       "      <td>https://shopee.co.id/Adidas-TENNIS-Grand-Court...</td>\n",
       "      <td>Adidas TENNIS Grand Court Floudfoam Lifestyle ...</td>\n",
       "      <td>Rp1.100.000</td>\n",
       "      <td>484.000</td>\n",
       "      <td>11 Terjual</td>\n",
       "      <td>KOTA YOGYAKARTA</td>\n",
       "    </tr>\n",
       "    <tr>\n",
       "      <th>12</th>\n",
       "      <td>https://shopee.co.id/adidas-RUNNING-Sepatu-Gal...</td>\n",
       "      <td>adidas RUNNING Sepatu Galaxy 6 GW4141</td>\n",
       "      <td>Rp750.000</td>\n",
       "      <td>637.500</td>\n",
       "      <td>180 Terjual</td>\n",
       "      <td>KOTA BEKASI</td>\n",
       "    </tr>\n",
       "    <tr>\n",
       "      <th>13</th>\n",
       "      <td>https://shopee.co.id/Adidas-SKATEBOARDING-Sepa...</td>\n",
       "      <td>Adidas SKATEBOARDING Sepatu Lifstyle Modern Fu...</td>\n",
       "      <td>Rp1.000.000</td>\n",
       "      <td>490.000</td>\n",
       "      <td>3 Terjual</td>\n",
       "      <td>KOTA YOGYAKARTA</td>\n",
       "    </tr>\n",
       "    <tr>\n",
       "      <th>14</th>\n",
       "      <td>https://shopee.co.id/adidas-RUNNING-Sepatu-Sho...</td>\n",
       "      <td>adidas RUNNING Sepatu Showtheway 2.0 GX1707</td>\n",
       "      <td>0</td>\n",
       "      <td>800.000</td>\n",
       "      <td>133 Terjual</td>\n",
       "      <td>KOTA BEKASI</td>\n",
       "    </tr>\n",
       "  </tbody>\n",
       "</table>\n",
       "</div>"
      ],
      "text/plain": [
       "                                      col-xs-2-4 href  \\\n",
       "0   https://shopee.co.id/BRODO-Vulcan-Hi-Olive-OWS...   \n",
       "1   https://shopee.co.id/Vans-Old-Skool-Classic-Na...   \n",
       "2   https://shopee.co.id/SEPATU-VANS-OLD-SKOOL-CLA...   \n",
       "3   https://shopee.co.id/GIFLY-Mijin-Sneakers-Wani...   \n",
       "4   https://shopee.co.id/SEPATU-ADIDAS-GRAND-COURT...   \n",
       "5   https://shopee.co.id/BRODO-X-Dian-Sastro-Sneak...   \n",
       "6   https://shopee.co.id/BRODO-Sneakers-VTG-V2-Hi-...   \n",
       "7   https://shopee.co.id/Adidas-TENNIS-Grand-Court...   \n",
       "8   https://shopee.co.id/Adidas-TENNIS-Sepatu-Cour...   \n",
       "9   https://shopee.co.id/ADIDAS-TENNIS-H02062-GRAN...   \n",
       "10  https://shopee.co.id/BRODO-Vantage-V2-Hi-Natur...   \n",
       "11  https://shopee.co.id/Adidas-TENNIS-Grand-Court...   \n",
       "12  https://shopee.co.id/adidas-RUNNING-Sepatu-Gal...   \n",
       "13  https://shopee.co.id/Adidas-SKATEBOARDING-Sepa...   \n",
       "14  https://shopee.co.id/adidas-RUNNING-Sepatu-Sho...   \n",
       "\n",
       "                                          Nama Barang       vioxXd    Harga  \\\n",
       "0                         BRODO - Vulcan Hi Olive OWS    Rp448.000  295.000   \n",
       "1   Vans Old Skool Classic Navy White - BNIB ORIGINAL    Rp700.000  499.000   \n",
       "2   SEPATU VANS OLD SKOOL CLASSIC BLACK WHITE RESM...  Rp1.100.000  999.999   \n",
       "3   GIFLY Mijin Sneakers Wanita Sepatu Sport Shoes...    Rp499.000  169.000   \n",
       "4   SEPATU ADIDAS GRAND COURT SE FULLWHITE ORIGINA...            0  280.000   \n",
       "5   BRODO X Dian Sastro - Sneakers VTG V2 Wanita C...    Rp549.000  494.000   \n",
       "6        BRODO - Sneakers VTG V2 Hi Limestone Grey IS    Rp688.000  429.000   \n",
       "7   Adidas TENNIS Grand Court SE Shoes Pria Putih ...  Rp1.100.000  495.000   \n",
       "8   Adidas TENNIS Sepatu Court Lifestyle Vegan Nov...  Rp1.100.000  407.000   \n",
       "9                    ADIDAS TENNIS H02062 GRAND COURT            0  540.750   \n",
       "10             BRODO - Vantage V2 Hi Natural White WS    Rp445.000  375.000   \n",
       "11  Adidas TENNIS Grand Court Floudfoam Lifestyle ...  Rp1.100.000  484.000   \n",
       "12              adidas RUNNING Sepatu Galaxy 6 GW4141    Rp750.000  637.500   \n",
       "13  Adidas SKATEBOARDING Sepatu Lifstyle Modern Fu...  Rp1.000.000  490.000   \n",
       "14        adidas RUNNING Sepatu Showtheway 2.0 GX1707            0  800.000   \n",
       "\n",
       "        Terjual                  Lokasi  \n",
       "0    33 Terjual            KOTA BANDUNG  \n",
       "1     5 Terjual             KAB. SLEMAN  \n",
       "2     1 Terjual             KAB. SLEMAN  \n",
       "3   288 Terjual          KAB. TANGERANG  \n",
       "4   126 Terjual  KOTA TANGERANG SELATAN  \n",
       "5    56 Terjual            KOTA BANDUNG  \n",
       "6    86 Terjual            KOTA BANDUNG  \n",
       "7     3 Terjual         KOTA YOGYAKARTA  \n",
       "8     9 Terjual         KOTA YOGYAKARTA  \n",
       "9     4 Terjual           KOTA SURABAYA  \n",
       "10  3RB Terjual            KOTA BANDUNG  \n",
       "11   11 Terjual         KOTA YOGYAKARTA  \n",
       "12  180 Terjual             KOTA BEKASI  \n",
       "13    3 Terjual         KOTA YOGYAKARTA  \n",
       "14  133 Terjual             KOTA BEKASI  "
      ]
     },
     "execution_count": 37,
     "metadata": {},
     "output_type": "execute_result"
    }
   ],
   "source": [
    "datashopee = pd.read_csv('C:/Users/bayuk/OneDrive/Documents/AI/pens/smtr2/Pemrosesan Data/12/shopee.csv')\n",
    "datashopee = datashopee.fillna(0)\n",
    "datashopee = datashopee.rename(columns={'ie3A+n':'Nama Barang', 'ZEgDH9':'Harga', 'r6HknA':'Terjual', 'zGGwiV':'Lokasi'})\n",
    "datashopee"
   ]
  },
  {
   "cell_type": "code",
   "execution_count": 38,
   "id": "dee2f9fa",
   "metadata": {},
   "outputs": [
    {
     "name": "stdout",
     "output_type": "stream",
     "text": [
      "=========Tokopedia=========\n",
      "Harga tertinggi\t: Rp4899.000\n",
      "Harga terendah\t: Rp25.000\n",
      "\n",
      "===========Shopee==========\n",
      "Harga tertinggi\t: Rp1000.000\n",
      "Harga terendah\t: Rp169.000\n"
     ]
    }
   ],
   "source": [
    "# perbandingan harga\n",
    "print('Tokopedia'.center(27, '='))\n",
    "print(f\"Harga tertinggi\\t: Rp{round(max(datatoped['Harga']))}.000\")\n",
    "print(f\"Harga terendah\\t: Rp{round(min(datatoped['Harga']))}.000\\n\")\n",
    "print('Shopee'.center(27, '='))\n",
    "print(f\"Harga tertinggi\\t: Rp{round(max(datashopee['Harga']))}.000\")\n",
    "print(f\"Harga terendah\\t: Rp{round(min(datashopee['Harga']))}.000\")"
   ]
  },
  {
   "cell_type": "code",
   "execution_count": 40,
   "id": "6b64cb23",
   "metadata": {},
   "outputs": [
    {
     "name": "stdout",
     "output_type": "stream",
     "text": [
      "Mean harga sepatu adidas di Tokopedia adalah Rp949.000\n"
     ]
    },
    {
     "data": {
      "text/plain": [
       "<Axes: ylabel='Frequency'>"
      ]
     },
     "execution_count": 40,
     "metadata": {},
     "output_type": "execute_result"
    },
    {
     "data": {
      "image/png": "[encoded data removed]",
      "text/plain": [
       "<Figure size 640x480 with 1 Axes>"
      ]
     },
     "metadata": {},
     "output_type": "display_data"
    }
   ],
   "source": [
    "meantoped = datatoped['Harga'].mean()\n",
    "print(f\"Mean harga sepatu adidas di Tokopedia adalah Rp{round(meantoped)}.000\")\n",
    "datatoped['Harga'].plot.hist(color = 'lightblue')"
   ]
  },
  {
   "cell_type": "code",
   "execution_count": 41,
   "id": "66c33ab0",
   "metadata": {},
   "outputs": [
    {
     "name": "stdout",
     "output_type": "stream",
     "text": [
      "Mean harga sepatu adidas di Shopee adalah Rp493.000\n"
     ]
    },
    {
     "data": {
      "text/plain": [
       "<Axes: ylabel='Frequency'>"
      ]
     },
     "execution_count": 41,
     "metadata": {},
     "output_type": "execute_result"
    },
    {
     "data": {
      "image/png": "[encoded data removed]",
      "text/plain": [
       "<Figure size 640x480 with 1 Axes>"
      ]
     },
     "metadata": {},
     "output_type": "display_data"
    }
   ],
   "source": [
    "meanshopee = datashopee['Harga'].mean()\n",
    "print(f\"Mean harga sepatu adidas di Shopee adalah Rp{round(meanshopee)}.000\")\n",
    "datashopee['Harga'].plot.hist(color = 'lightgreen')"
   ]
  },
  {
   "cell_type": "code",
   "execution_count": 42,
   "id": "942cba24",
   "metadata": {},
   "outputs": [
    {
     "name": "stdout",
     "output_type": "stream",
     "text": [
      "Harga di Shopee lebih murah\n"
     ]
    }
   ],
   "source": [
    "# membandingkan harga dengan mean\n",
    "if meantoped > meanshopee:\n",
    "    print('Harga di Shopee lebih murah')\n",
    "elif meantoped < meanshopee:\n",
    "    print('Harga di Tokopedia lebih murah')\n",
    "else:\n",
    "    print('Harga di kedua market place sama')"
   ]
  },
  {
   "cell_type": "code",
   "execution_count": 45,
   "metadata": {},
   "outputs": [
    {
     "name": "stdout",
     "output_type": "stream",
     "text": [
      "Kata kunci muncul pada Tokopedia sebanyak  53 kali\n",
      "Kata kunci muncul pada Tokopedia sebanyak  4 kali\n"
     ]
    }
   ],
   "source": [
    "# kesesuaian kata kunci\n",
    "keyword_count = datatoped['Nama Barang'].str.contains('Adidas').sum()\n",
    "print('Kata kunci muncul pada Tokopedia sebanyak ', keyword_count, 'kali')\n",
    "keyword_count2 = datashopee['Nama Barang'].str.contains('Adidas').sum()\n",
    "print('Kata kunci muncul pada Tokopedia sebanyak ', keyword_count2, 'kali')"
   ]
  }
 ],
 "metadata": {
  "kernelspec": {
   "display_name": "Python 3 (ipykernel)",
   "language": "python",
   "name": "python3"
  },
  "language_info": {
   "codemirror_mode": {
    "name": "ipython",
    "version": 3
   },
   "file_extension": ".py",
   "mimetype": "text/x-python",
   "name": "python",
   "nbconvert_exporter": "python",
   "pygments_lexer": "ipython3",
   "version": "3.10.11"
  }
 },
 "nbformat": 4,
 "nbformat_minor": 5
}
