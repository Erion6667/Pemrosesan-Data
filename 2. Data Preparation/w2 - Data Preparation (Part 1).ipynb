{
 "cells": [
  {
   "cell_type": "markdown",
   "metadata": {},
   "source": [
    "# PART 1"
   ]
  },
  {
   "cell_type": "code",
   "execution_count": 2,
   "metadata": {},
   "outputs": [],
   "source": [
    "import pandas as pd"
   ]
  },
  {
   "cell_type": "markdown",
   "metadata": {},
   "source": [
    "## Membaca Data"
   ]
  },
  {
   "cell_type": "code",
   "execution_count": 3,
   "metadata": {},
   "outputs": [
    {
     "data": {
      "text/html": [
       "<div>\n",
       "<style scoped>\n",
       "    .dataframe tbody tr th:only-of-type {\n",
       "        vertical-align: middle;\n",
       "    }\n",
       "\n",
       "    .dataframe tbody tr th {\n",
       "        vertical-align: top;\n",
       "    }\n",
       "\n",
       "    .dataframe thead th {\n",
       "        text-align: right;\n",
       "    }\n",
       "</style>\n",
       "<table border=\"1\" class=\"dataframe\">\n",
       "  <thead>\n",
       "    <tr style=\"text-align: right;\">\n",
       "      <th></th>\n",
       "      <th>nama_series;kode_wilayah;wilayah;tahun;nilai;target</th>\n",
       "    </tr>\n",
       "  </thead>\n",
       "  <tbody>\n",
       "    <tr>\n",
       "      <th>0</th>\n",
       "      <td>Proporsi Penduduk yang Memiliki Telepon Selule...</td>\n",
       "    </tr>\n",
       "    <tr>\n",
       "      <th>1</th>\n",
       "      <td>Proporsi Penduduk yang Memiliki Telepon Selule...</td>\n",
       "    </tr>\n",
       "    <tr>\n",
       "      <th>2</th>\n",
       "      <td>Proporsi Penduduk yang Memiliki Telepon Selule...</td>\n",
       "    </tr>\n",
       "    <tr>\n",
       "      <th>3</th>\n",
       "      <td>Proporsi Penduduk yang Memiliki Telepon Selule...</td>\n",
       "    </tr>\n",
       "    <tr>\n",
       "      <th>4</th>\n",
       "      <td>Proporsi Penduduk yang Memiliki Telepon Selule...</td>\n",
       "    </tr>\n",
       "    <tr>\n",
       "      <th>...</th>\n",
       "      <td>...</td>\n",
       "    </tr>\n",
       "    <tr>\n",
       "      <th>520</th>\n",
       "      <td>Proporsi Penduduk yang Memiliki Telepon Selule...</td>\n",
       "    </tr>\n",
       "    <tr>\n",
       "      <th>521</th>\n",
       "      <td>Proporsi Penduduk yang Memiliki Telepon Selule...</td>\n",
       "    </tr>\n",
       "    <tr>\n",
       "      <th>522</th>\n",
       "      <td>Proporsi Penduduk yang Memiliki Telepon Selule...</td>\n",
       "    </tr>\n",
       "    <tr>\n",
       "      <th>523</th>\n",
       "      <td>Proporsi Penduduk yang Memiliki Telepon Selule...</td>\n",
       "    </tr>\n",
       "    <tr>\n",
       "      <th>524</th>\n",
       "      <td>Proporsi Penduduk yang Memiliki Telepon Selule...</td>\n",
       "    </tr>\n",
       "  </tbody>\n",
       "</table>\n",
       "<p>525 rows × 1 columns</p>\n",
       "</div>"
      ],
      "text/plain": [
       "    nama_series;kode_wilayah;wilayah;tahun;nilai;target\n",
       "0    Proporsi Penduduk yang Memiliki Telepon Selule... \n",
       "1    Proporsi Penduduk yang Memiliki Telepon Selule... \n",
       "2    Proporsi Penduduk yang Memiliki Telepon Selule... \n",
       "3    Proporsi Penduduk yang Memiliki Telepon Selule... \n",
       "4    Proporsi Penduduk yang Memiliki Telepon Selule... \n",
       "..                                                 ... \n",
       "520  Proporsi Penduduk yang Memiliki Telepon Selule... \n",
       "521  Proporsi Penduduk yang Memiliki Telepon Selule... \n",
       "522  Proporsi Penduduk yang Memiliki Telepon Selule... \n",
       "523  Proporsi Penduduk yang Memiliki Telepon Selule... \n",
       "524  Proporsi Penduduk yang Memiliki Telepon Selule... \n",
       "\n",
       "[525 rows x 1 columns]"
      ]
     },
     "execution_count": 3,
     "metadata": {},
     "output_type": "execute_result"
    }
   ],
   "source": [
    "df = pd.read_csv(\"C:/Users/bayuk/OneDrive/Documents/AI/pens/smtr2/Pemrosesan Data/2/penduduk_telepon_seluler_pedesaan.csv\")\n",
    "df"
   ]
  },
  {
   "cell_type": "code",
   "execution_count": 4,
   "metadata": {},
   "outputs": [
    {
     "data": {
      "text/html": [
       "<div>\n",
       "<style scoped>\n",
       "    .dataframe tbody tr th:only-of-type {\n",
       "        vertical-align: middle;\n",
       "    }\n",
       "\n",
       "    .dataframe tbody tr th {\n",
       "        vertical-align: top;\n",
       "    }\n",
       "\n",
       "    .dataframe thead th {\n",
       "        text-align: right;\n",
       "    }\n",
       "</style>\n",
       "<table border=\"1\" class=\"dataframe\">\n",
       "  <thead>\n",
       "    <tr style=\"text-align: right;\">\n",
       "      <th></th>\n",
       "      <th>nama_series</th>\n",
       "      <th>kode_wilayah</th>\n",
       "      <th>wilayah</th>\n",
       "      <th>tahun</th>\n",
       "      <th>nilai</th>\n",
       "      <th>target</th>\n",
       "    </tr>\n",
       "  </thead>\n",
       "  <tbody>\n",
       "    <tr>\n",
       "      <th>0</th>\n",
       "      <td>Proporsi Penduduk yang Memiliki Telepon Selule...</td>\n",
       "      <td>1</td>\n",
       "      <td>Indonesia</td>\n",
       "      <td>2001</td>\n",
       "      <td>NaN</td>\n",
       "      <td>100.0</td>\n",
       "    </tr>\n",
       "    <tr>\n",
       "      <th>1</th>\n",
       "      <td>Proporsi Penduduk yang Memiliki Telepon Selule...</td>\n",
       "      <td>1</td>\n",
       "      <td>Indonesia</td>\n",
       "      <td>2002</td>\n",
       "      <td>NaN</td>\n",
       "      <td>100.0</td>\n",
       "    </tr>\n",
       "    <tr>\n",
       "      <th>2</th>\n",
       "      <td>Proporsi Penduduk yang Memiliki Telepon Selule...</td>\n",
       "      <td>1</td>\n",
       "      <td>Indonesia</td>\n",
       "      <td>2003</td>\n",
       "      <td>NaN</td>\n",
       "      <td>100.0</td>\n",
       "    </tr>\n",
       "    <tr>\n",
       "      <th>3</th>\n",
       "      <td>Proporsi Penduduk yang Memiliki Telepon Selule...</td>\n",
       "      <td>1</td>\n",
       "      <td>Indonesia</td>\n",
       "      <td>2004</td>\n",
       "      <td>NaN</td>\n",
       "      <td>100.0</td>\n",
       "    </tr>\n",
       "    <tr>\n",
       "      <th>4</th>\n",
       "      <td>Proporsi Penduduk yang Memiliki Telepon Selule...</td>\n",
       "      <td>1</td>\n",
       "      <td>Indonesia</td>\n",
       "      <td>2005</td>\n",
       "      <td>8.19</td>\n",
       "      <td>100.0</td>\n",
       "    </tr>\n",
       "  </tbody>\n",
       "</table>\n",
       "</div>"
      ],
      "text/plain": [
       "                                         nama_series  kode_wilayah    wilayah  \\\n",
       "0  Proporsi Penduduk yang Memiliki Telepon Selule...             1  Indonesia   \n",
       "1  Proporsi Penduduk yang Memiliki Telepon Selule...             1  Indonesia   \n",
       "2  Proporsi Penduduk yang Memiliki Telepon Selule...             1  Indonesia   \n",
       "3  Proporsi Penduduk yang Memiliki Telepon Selule...             1  Indonesia   \n",
       "4  Proporsi Penduduk yang Memiliki Telepon Selule...             1  Indonesia   \n",
       "\n",
       "   tahun  nilai  target  \n",
       "0   2001    NaN   100.0  \n",
       "1   2002    NaN   100.0  \n",
       "2   2003    NaN   100.0  \n",
       "3   2004    NaN   100.0  \n",
       "4   2005   8.19   100.0  "
      ]
     },
     "execution_count": 4,
     "metadata": {},
     "output_type": "execute_result"
    }
   ],
   "source": [
    "df = pd.read_csv(\"C:/Users/bayuk/OneDrive/Documents/AI/pens/smtr2/Pemrosesan Data/2/penduduk_telepon_seluler_pedesaan.csv\", sep=\";\")\n",
    "df.head()"
   ]
  },
  {
   "cell_type": "markdown",
   "metadata": {},
   "source": [
    "## Mengakses Baris\n",
    "### loc"
   ]
  },
  {
   "cell_type": "code",
   "execution_count": 5,
   "metadata": {},
   "outputs": [
    {
     "data": {
      "text/html": [
       "<div>\n",
       "<style scoped>\n",
       "    .dataframe tbody tr th:only-of-type {\n",
       "        vertical-align: middle;\n",
       "    }\n",
       "\n",
       "    .dataframe tbody tr th {\n",
       "        vertical-align: top;\n",
       "    }\n",
       "\n",
       "    .dataframe thead th {\n",
       "        text-align: right;\n",
       "    }\n",
       "</style>\n",
       "<table border=\"1\" class=\"dataframe\">\n",
       "  <thead>\n",
       "    <tr style=\"text-align: right;\">\n",
       "      <th></th>\n",
       "      <th>nama_series</th>\n",
       "      <th>kode_wilayah</th>\n",
       "      <th>wilayah</th>\n",
       "      <th>tahun</th>\n",
       "      <th>nilai</th>\n",
       "      <th>target</th>\n",
       "    </tr>\n",
       "  </thead>\n",
       "  <tbody>\n",
       "    <tr>\n",
       "      <th>0</th>\n",
       "      <td>Proporsi Penduduk yang Memiliki Telepon Selule...</td>\n",
       "      <td>1</td>\n",
       "      <td>Indonesia</td>\n",
       "      <td>2001</td>\n",
       "      <td>NaN</td>\n",
       "      <td>100.0</td>\n",
       "    </tr>\n",
       "    <tr>\n",
       "      <th>1</th>\n",
       "      <td>Proporsi Penduduk yang Memiliki Telepon Selule...</td>\n",
       "      <td>1</td>\n",
       "      <td>Indonesia</td>\n",
       "      <td>2002</td>\n",
       "      <td>NaN</td>\n",
       "      <td>100.0</td>\n",
       "    </tr>\n",
       "    <tr>\n",
       "      <th>2</th>\n",
       "      <td>Proporsi Penduduk yang Memiliki Telepon Selule...</td>\n",
       "      <td>1</td>\n",
       "      <td>Indonesia</td>\n",
       "      <td>2003</td>\n",
       "      <td>NaN</td>\n",
       "      <td>100.0</td>\n",
       "    </tr>\n",
       "  </tbody>\n",
       "</table>\n",
       "</div>"
      ],
      "text/plain": [
       "                                         nama_series  kode_wilayah    wilayah  \\\n",
       "0  Proporsi Penduduk yang Memiliki Telepon Selule...             1  Indonesia   \n",
       "1  Proporsi Penduduk yang Memiliki Telepon Selule...             1  Indonesia   \n",
       "2  Proporsi Penduduk yang Memiliki Telepon Selule...             1  Indonesia   \n",
       "\n",
       "   tahun  nilai  target  \n",
       "0   2001    NaN   100.0  \n",
       "1   2002    NaN   100.0  \n",
       "2   2003    NaN   100.0  "
      ]
     },
     "execution_count": 5,
     "metadata": {},
     "output_type": "execute_result"
    }
   ],
   "source": [
    "import numpy as np\n",
    "df_shuffled = df.reindex(np.random.permutation(df.index))\n",
    "df.head(3)"
   ]
  },
  {
   "cell_type": "code",
   "execution_count": 6,
   "metadata": {},
   "outputs": [
    {
     "data": {
      "text/html": [
       "<div>\n",
       "<style scoped>\n",
       "    .dataframe tbody tr th:only-of-type {\n",
       "        vertical-align: middle;\n",
       "    }\n",
       "\n",
       "    .dataframe tbody tr th {\n",
       "        vertical-align: top;\n",
       "    }\n",
       "\n",
       "    .dataframe thead th {\n",
       "        text-align: right;\n",
       "    }\n",
       "</style>\n",
       "<table border=\"1\" class=\"dataframe\">\n",
       "  <thead>\n",
       "    <tr style=\"text-align: right;\">\n",
       "      <th></th>\n",
       "      <th>nama_series</th>\n",
       "      <th>kode_wilayah</th>\n",
       "      <th>wilayah</th>\n",
       "      <th>tahun</th>\n",
       "      <th>nilai</th>\n",
       "      <th>target</th>\n",
       "    </tr>\n",
       "  </thead>\n",
       "  <tbody>\n",
       "    <tr>\n",
       "      <th>383</th>\n",
       "      <td>Proporsi Penduduk yang Memiliki Telepon Selule...</td>\n",
       "      <td>71</td>\n",
       "      <td>Sulawesi Utara</td>\n",
       "      <td>2009</td>\n",
       "      <td>48.23</td>\n",
       "      <td>NaN</td>\n",
       "    </tr>\n",
       "    <tr>\n",
       "      <th>75</th>\n",
       "      <td>Proporsi Penduduk yang Memiliki Telepon Selule...</td>\n",
       "      <td>15</td>\n",
       "      <td>Jambi</td>\n",
       "      <td>2001</td>\n",
       "      <td>NaN</td>\n",
       "      <td>NaN</td>\n",
       "    </tr>\n",
       "    <tr>\n",
       "      <th>427</th>\n",
       "      <td>Proporsi Penduduk yang Memiliki Telepon Selule...</td>\n",
       "      <td>74</td>\n",
       "      <td>Sulawesi Tenggara</td>\n",
       "      <td>2008</td>\n",
       "      <td>34.80</td>\n",
       "      <td>NaN</td>\n",
       "    </tr>\n",
       "  </tbody>\n",
       "</table>\n",
       "</div>"
      ],
      "text/plain": [
       "                                           nama_series  kode_wilayah  \\\n",
       "383  Proporsi Penduduk yang Memiliki Telepon Selule...            71   \n",
       "75   Proporsi Penduduk yang Memiliki Telepon Selule...            15   \n",
       "427  Proporsi Penduduk yang Memiliki Telepon Selule...            74   \n",
       "\n",
       "               wilayah  tahun  nilai  target  \n",
       "383     Sulawesi Utara   2009  48.23     NaN  \n",
       "75               Jambi   2001    NaN     NaN  \n",
       "427  Sulawesi Tenggara   2008  34.80     NaN  "
      ]
     },
     "execution_count": 6,
     "metadata": {},
     "output_type": "execute_result"
    }
   ],
   "source": [
    "df_shuffled.head(3)"
   ]
  },
  {
   "cell_type": "code",
   "execution_count": 7,
   "metadata": {},
   "outputs": [
    {
     "data": {
      "text/plain": [
       "nama_series     Proporsi Penduduk yang Memiliki Telepon Selule...\n",
       "kode_wilayah                                                   71\n",
       "wilayah                                            Sulawesi Utara\n",
       "tahun                                                        2009\n",
       "nilai                                                       48.23\n",
       "target                                                        NaN\n",
       "Name: 383, dtype: object"
      ]
     },
     "execution_count": 7,
     "metadata": {},
     "output_type": "execute_result"
    }
   ],
   "source": [
    "df_shuffled.iloc[0]"
   ]
  },
  {
   "cell_type": "code",
   "execution_count": 8,
   "metadata": {},
   "outputs": [
    {
     "data": {
      "text/plain": [
       "nama_series     Proporsi Penduduk yang Memiliki Telepon Selule...\n",
       "kode_wilayah                                                   74\n",
       "wilayah                                         Sulawesi Tenggara\n",
       "tahun                                                        2002\n",
       "nilai                                                         NaN\n",
       "target                                                        NaN\n",
       "Name: 421, dtype: object"
      ]
     },
     "execution_count": 8,
     "metadata": {},
     "output_type": "execute_result"
    }
   ],
   "source": [
    "df_shuffled.iloc[260]"
   ]
  },
  {
   "cell_type": "markdown",
   "metadata": {},
   "source": [
    "### loc"
   ]
  },
  {
   "cell_type": "code",
   "execution_count": 9,
   "metadata": {},
   "outputs": [
    {
     "data": {
      "text/html": [
       "<div>\n",
       "<style scoped>\n",
       "    .dataframe tbody tr th:only-of-type {\n",
       "        vertical-align: middle;\n",
       "    }\n",
       "\n",
       "    .dataframe tbody tr th {\n",
       "        vertical-align: top;\n",
       "    }\n",
       "\n",
       "    .dataframe thead th {\n",
       "        text-align: right;\n",
       "    }\n",
       "</style>\n",
       "<table border=\"1\" class=\"dataframe\">\n",
       "  <thead>\n",
       "    <tr style=\"text-align: right;\">\n",
       "      <th></th>\n",
       "      <th>nama_series</th>\n",
       "      <th>kode_wilayah</th>\n",
       "      <th>wilayah</th>\n",
       "      <th>tahun</th>\n",
       "      <th>nilai</th>\n",
       "      <th>target</th>\n",
       "    </tr>\n",
       "  </thead>\n",
       "  <tbody>\n",
       "    <tr>\n",
       "      <th>383</th>\n",
       "      <td>Proporsi Penduduk yang Memiliki Telepon Selule...</td>\n",
       "      <td>71</td>\n",
       "      <td>Sulawesi Utara</td>\n",
       "      <td>2009</td>\n",
       "      <td>48.23</td>\n",
       "      <td>NaN</td>\n",
       "    </tr>\n",
       "    <tr>\n",
       "      <th>75</th>\n",
       "      <td>Proporsi Penduduk yang Memiliki Telepon Selule...</td>\n",
       "      <td>15</td>\n",
       "      <td>Jambi</td>\n",
       "      <td>2001</td>\n",
       "      <td>NaN</td>\n",
       "      <td>NaN</td>\n",
       "    </tr>\n",
       "    <tr>\n",
       "      <th>427</th>\n",
       "      <td>Proporsi Penduduk yang Memiliki Telepon Selule...</td>\n",
       "      <td>74</td>\n",
       "      <td>Sulawesi Tenggara</td>\n",
       "      <td>2008</td>\n",
       "      <td>34.80</td>\n",
       "      <td>NaN</td>\n",
       "    </tr>\n",
       "  </tbody>\n",
       "</table>\n",
       "</div>"
      ],
      "text/plain": [
       "                                           nama_series  kode_wilayah  \\\n",
       "383  Proporsi Penduduk yang Memiliki Telepon Selule...            71   \n",
       "75   Proporsi Penduduk yang Memiliki Telepon Selule...            15   \n",
       "427  Proporsi Penduduk yang Memiliki Telepon Selule...            74   \n",
       "\n",
       "               wilayah  tahun  nilai  target  \n",
       "383     Sulawesi Utara   2009  48.23     NaN  \n",
       "75               Jambi   2001    NaN     NaN  \n",
       "427  Sulawesi Tenggara   2008  34.80     NaN  "
      ]
     },
     "execution_count": 9,
     "metadata": {},
     "output_type": "execute_result"
    }
   ],
   "source": [
    "df_shuffled.head(3)"
   ]
  },
  {
   "cell_type": "code",
   "execution_count": 10,
   "metadata": {},
   "outputs": [
    {
     "data": {
      "text/plain": [
       "nama_series     Proporsi Penduduk yang Memiliki Telepon Selule...\n",
       "kode_wilayah                                                    1\n",
       "wilayah                                                 Indonesia\n",
       "tahun                                                        2001\n",
       "nilai                                                         NaN\n",
       "target                                                      100.0\n",
       "Name: 0, dtype: object"
      ]
     },
     "execution_count": 10,
     "metadata": {},
     "output_type": "execute_result"
    }
   ],
   "source": [
    "df_shuffled.loc[0]"
   ]
  },
  {
   "cell_type": "code",
   "execution_count": 11,
   "metadata": {},
   "outputs": [
    {
     "data": {
      "text/plain": [
       "nama_series     Proporsi Penduduk yang Memiliki Telepon Selule...\n",
       "kode_wilayah                                                   51\n",
       "wilayah                                                      Bali\n",
       "tahun                                                        2007\n",
       "nilai                                                        38.6\n",
       "target                                                        NaN\n",
       "Name: 261, dtype: object"
      ]
     },
     "execution_count": 11,
     "metadata": {},
     "output_type": "execute_result"
    }
   ],
   "source": [
    "df_shuffled.loc[261]"
   ]
  },
  {
   "cell_type": "code",
   "execution_count": 12,
   "metadata": {},
   "outputs": [
    {
     "data": {
      "text/plain": [
       "nama_series     Proporsi Penduduk yang Memiliki Telepon Selule...\n",
       "kode_wilayah                                                   51\n",
       "wilayah                                                      Bali\n",
       "tahun                                                        2006\n",
       "nilai                                                       27.22\n",
       "target                                                        NaN\n",
       "Name: 260, dtype: object"
      ]
     },
     "execution_count": 12,
     "metadata": {},
     "output_type": "execute_result"
    }
   ],
   "source": [
    "df_shuffled.loc[260]"
   ]
  },
  {
   "cell_type": "markdown",
   "metadata": {},
   "source": [
    "## Mengakses Sebagian Data (Range)"
   ]
  },
  {
   "cell_type": "code",
   "execution_count": 13,
   "metadata": {},
   "outputs": [
    {
     "data": {
      "text/plain": [
       "['wilayah', 'tahun', 'nilai']"
      ]
     },
     "execution_count": 13,
     "metadata": {},
     "output_type": "execute_result"
    }
   ],
   "source": [
    "[\"wilayah\", \"tahun\", \"nilai\"]"
   ]
  },
  {
   "cell_type": "code",
   "execution_count": 14,
   "metadata": {},
   "outputs": [
    {
     "data": {
      "text/html": [
       "<div>\n",
       "<style scoped>\n",
       "    .dataframe tbody tr th:only-of-type {\n",
       "        vertical-align: middle;\n",
       "    }\n",
       "\n",
       "    .dataframe tbody tr th {\n",
       "        vertical-align: top;\n",
       "    }\n",
       "\n",
       "    .dataframe thead th {\n",
       "        text-align: right;\n",
       "    }\n",
       "</style>\n",
       "<table border=\"1\" class=\"dataframe\">\n",
       "  <thead>\n",
       "    <tr style=\"text-align: right;\">\n",
       "      <th></th>\n",
       "      <th>wilayah</th>\n",
       "      <th>tahun</th>\n",
       "      <th>nilai</th>\n",
       "    </tr>\n",
       "  </thead>\n",
       "  <tbody>\n",
       "    <tr>\n",
       "      <th>0</th>\n",
       "      <td>Indonesia</td>\n",
       "      <td>2001</td>\n",
       "      <td>NaN</td>\n",
       "    </tr>\n",
       "    <tr>\n",
       "      <th>1</th>\n",
       "      <td>Indonesia</td>\n",
       "      <td>2002</td>\n",
       "      <td>NaN</td>\n",
       "    </tr>\n",
       "    <tr>\n",
       "      <th>2</th>\n",
       "      <td>Indonesia</td>\n",
       "      <td>2003</td>\n",
       "      <td>NaN</td>\n",
       "    </tr>\n",
       "    <tr>\n",
       "      <th>3</th>\n",
       "      <td>Indonesia</td>\n",
       "      <td>2004</td>\n",
       "      <td>NaN</td>\n",
       "    </tr>\n",
       "    <tr>\n",
       "      <th>4</th>\n",
       "      <td>Indonesia</td>\n",
       "      <td>2005</td>\n",
       "      <td>8.19</td>\n",
       "    </tr>\n",
       "  </tbody>\n",
       "</table>\n",
       "</div>"
      ],
      "text/plain": [
       "     wilayah  tahun  nilai\n",
       "0  Indonesia   2001    NaN\n",
       "1  Indonesia   2002    NaN\n",
       "2  Indonesia   2003    NaN\n",
       "3  Indonesia   2004    NaN\n",
       "4  Indonesia   2005   8.19"
      ]
     },
     "execution_count": 14,
     "metadata": {},
     "output_type": "execute_result"
    }
   ],
   "source": [
    "subset_df = df[[\"wilayah\", \"tahun\", \"nilai\"]]\n",
    "subset_df.head()"
   ]
  },
  {
   "cell_type": "code",
   "execution_count": 15,
   "metadata": {},
   "outputs": [
    {
     "data": {
      "text/html": [
       "<div>\n",
       "<style scoped>\n",
       "    .dataframe tbody tr th:only-of-type {\n",
       "        vertical-align: middle;\n",
       "    }\n",
       "\n",
       "    .dataframe tbody tr th {\n",
       "        vertical-align: top;\n",
       "    }\n",
       "\n",
       "    .dataframe thead th {\n",
       "        text-align: right;\n",
       "    }\n",
       "</style>\n",
       "<table border=\"1\" class=\"dataframe\">\n",
       "  <thead>\n",
       "    <tr style=\"text-align: right;\">\n",
       "      <th></th>\n",
       "      <th>wilayah</th>\n",
       "      <th>tahun</th>\n",
       "    </tr>\n",
       "  </thead>\n",
       "  <tbody>\n",
       "    <tr>\n",
       "      <th>0</th>\n",
       "      <td>Indonesia</td>\n",
       "      <td>2001</td>\n",
       "    </tr>\n",
       "    <tr>\n",
       "      <th>1</th>\n",
       "      <td>Indonesia</td>\n",
       "      <td>2002</td>\n",
       "    </tr>\n",
       "    <tr>\n",
       "      <th>2</th>\n",
       "      <td>Indonesia</td>\n",
       "      <td>2003</td>\n",
       "    </tr>\n",
       "    <tr>\n",
       "      <th>3</th>\n",
       "      <td>Indonesia</td>\n",
       "      <td>2004</td>\n",
       "    </tr>\n",
       "    <tr>\n",
       "      <th>4</th>\n",
       "      <td>Indonesia</td>\n",
       "      <td>2005</td>\n",
       "    </tr>\n",
       "  </tbody>\n",
       "</table>\n",
       "</div>"
      ],
      "text/plain": [
       "     wilayah  tahun\n",
       "0  Indonesia   2001\n",
       "1  Indonesia   2002\n",
       "2  Indonesia   2003\n",
       "3  Indonesia   2004\n",
       "4  Indonesia   2005"
      ]
     },
     "execution_count": 15,
     "metadata": {},
     "output_type": "execute_result"
    }
   ],
   "source": [
    "selected_columns = [\"wilayah\", \"tahun\"]\n",
    "subset_df_2 = df[selected_columns]\n",
    "subset_df_2.head()"
   ]
  },
  {
   "cell_type": "code",
   "execution_count": 16,
   "metadata": {},
   "outputs": [
    {
     "data": {
      "text/html": [
       "<div>\n",
       "<style scoped>\n",
       "    .dataframe tbody tr th:only-of-type {\n",
       "        vertical-align: middle;\n",
       "    }\n",
       "\n",
       "    .dataframe tbody tr th {\n",
       "        vertical-align: top;\n",
       "    }\n",
       "\n",
       "    .dataframe thead th {\n",
       "        text-align: right;\n",
       "    }\n",
       "</style>\n",
       "<table border=\"1\" class=\"dataframe\">\n",
       "  <thead>\n",
       "    <tr style=\"text-align: right;\">\n",
       "      <th></th>\n",
       "      <th>nama_series</th>\n",
       "      <th>kode_wilayah</th>\n",
       "      <th>wilayah</th>\n",
       "      <th>tahun</th>\n",
       "      <th>nilai</th>\n",
       "      <th>target</th>\n",
       "    </tr>\n",
       "  </thead>\n",
       "  <tbody>\n",
       "    <tr>\n",
       "      <th>2</th>\n",
       "      <td>Proporsi Penduduk yang Memiliki Telepon Selule...</td>\n",
       "      <td>1</td>\n",
       "      <td>Indonesia</td>\n",
       "      <td>2003</td>\n",
       "      <td>NaN</td>\n",
       "      <td>100.0</td>\n",
       "    </tr>\n",
       "    <tr>\n",
       "      <th>0</th>\n",
       "      <td>Proporsi Penduduk yang Memiliki Telepon Selule...</td>\n",
       "      <td>1</td>\n",
       "      <td>Indonesia</td>\n",
       "      <td>2001</td>\n",
       "      <td>NaN</td>\n",
       "      <td>100.0</td>\n",
       "    </tr>\n",
       "    <tr>\n",
       "      <th>10</th>\n",
       "      <td>Proporsi Penduduk yang Memiliki Telepon Selule...</td>\n",
       "      <td>1</td>\n",
       "      <td>Indonesia</td>\n",
       "      <td>2011</td>\n",
       "      <td>69.46</td>\n",
       "      <td>100.0</td>\n",
       "    </tr>\n",
       "  </tbody>\n",
       "</table>\n",
       "</div>"
      ],
      "text/plain": [
       "                                          nama_series  kode_wilayah  \\\n",
       "2   Proporsi Penduduk yang Memiliki Telepon Selule...             1   \n",
       "0   Proporsi Penduduk yang Memiliki Telepon Selule...             1   \n",
       "10  Proporsi Penduduk yang Memiliki Telepon Selule...             1   \n",
       "\n",
       "      wilayah  tahun  nilai  target  \n",
       "2   Indonesia   2003    NaN   100.0  \n",
       "0   Indonesia   2001    NaN   100.0  \n",
       "10  Indonesia   2011  69.46   100.0  "
      ]
     },
     "execution_count": 16,
     "metadata": {},
     "output_type": "execute_result"
    }
   ],
   "source": [
    "subset_rows = df.loc[[2, 0, 10]]\n",
    "subset_rows.head()"
   ]
  },
  {
   "cell_type": "code",
   "execution_count": 17,
   "metadata": {},
   "outputs": [
    {
     "data": {
      "text/html": [
       "<div>\n",
       "<style scoped>\n",
       "    .dataframe tbody tr th:only-of-type {\n",
       "        vertical-align: middle;\n",
       "    }\n",
       "\n",
       "    .dataframe tbody tr th {\n",
       "        vertical-align: top;\n",
       "    }\n",
       "\n",
       "    .dataframe thead th {\n",
       "        text-align: right;\n",
       "    }\n",
       "</style>\n",
       "<table border=\"1\" class=\"dataframe\">\n",
       "  <thead>\n",
       "    <tr style=\"text-align: right;\">\n",
       "      <th></th>\n",
       "      <th>wilayah</th>\n",
       "      <th>tahun</th>\n",
       "    </tr>\n",
       "  </thead>\n",
       "  <tbody>\n",
       "    <tr>\n",
       "      <th>0</th>\n",
       "      <td>Indonesia</td>\n",
       "      <td>2001</td>\n",
       "    </tr>\n",
       "    <tr>\n",
       "      <th>1</th>\n",
       "      <td>Indonesia</td>\n",
       "      <td>2002</td>\n",
       "    </tr>\n",
       "    <tr>\n",
       "      <th>2</th>\n",
       "      <td>Indonesia</td>\n",
       "      <td>2003</td>\n",
       "    </tr>\n",
       "    <tr>\n",
       "      <th>3</th>\n",
       "      <td>Indonesia</td>\n",
       "      <td>2004</td>\n",
       "    </tr>\n",
       "    <tr>\n",
       "      <th>4</th>\n",
       "      <td>Indonesia</td>\n",
       "      <td>2005</td>\n",
       "    </tr>\n",
       "    <tr>\n",
       "      <th>...</th>\n",
       "      <td>...</td>\n",
       "      <td>...</td>\n",
       "    </tr>\n",
       "    <tr>\n",
       "      <th>520</th>\n",
       "      <td>Papua</td>\n",
       "      <td>2011</td>\n",
       "    </tr>\n",
       "    <tr>\n",
       "      <th>521</th>\n",
       "      <td>Papua</td>\n",
       "      <td>2012</td>\n",
       "    </tr>\n",
       "    <tr>\n",
       "      <th>522</th>\n",
       "      <td>Papua</td>\n",
       "      <td>2013</td>\n",
       "    </tr>\n",
       "    <tr>\n",
       "      <th>523</th>\n",
       "      <td>Papua</td>\n",
       "      <td>2014</td>\n",
       "    </tr>\n",
       "    <tr>\n",
       "      <th>524</th>\n",
       "      <td>Papua</td>\n",
       "      <td>2015</td>\n",
       "    </tr>\n",
       "  </tbody>\n",
       "</table>\n",
       "<p>525 rows × 2 columns</p>\n",
       "</div>"
      ],
      "text/plain": [
       "       wilayah  tahun\n",
       "0    Indonesia   2001\n",
       "1    Indonesia   2002\n",
       "2    Indonesia   2003\n",
       "3    Indonesia   2004\n",
       "4    Indonesia   2005\n",
       "..         ...    ...\n",
       "520      Papua   2011\n",
       "521      Papua   2012\n",
       "522      Papua   2013\n",
       "523      Papua   2014\n",
       "524      Papua   2015\n",
       "\n",
       "[525 rows x 2 columns]"
      ]
     },
     "execution_count": 17,
     "metadata": {},
     "output_type": "execute_result"
    }
   ],
   "source": [
    "subset = df.loc[:, selected_columns]\n",
    "subset"
   ]
  },
  {
   "cell_type": "code",
   "execution_count": 18,
   "metadata": {},
   "outputs": [
    {
     "data": {
      "text/html": [
       "<div>\n",
       "<style scoped>\n",
       "    .dataframe tbody tr th:only-of-type {\n",
       "        vertical-align: middle;\n",
       "    }\n",
       "\n",
       "    .dataframe tbody tr th {\n",
       "        vertical-align: top;\n",
       "    }\n",
       "\n",
       "    .dataframe thead th {\n",
       "        text-align: right;\n",
       "    }\n",
       "</style>\n",
       "<table border=\"1\" class=\"dataframe\">\n",
       "  <thead>\n",
       "    <tr style=\"text-align: right;\">\n",
       "      <th></th>\n",
       "      <th>wilayah</th>\n",
       "      <th>tahun</th>\n",
       "    </tr>\n",
       "  </thead>\n",
       "  <tbody>\n",
       "    <tr>\n",
       "      <th>3</th>\n",
       "      <td>Indonesia</td>\n",
       "      <td>2004</td>\n",
       "    </tr>\n",
       "    <tr>\n",
       "      <th>4</th>\n",
       "      <td>Indonesia</td>\n",
       "      <td>2005</td>\n",
       "    </tr>\n",
       "    <tr>\n",
       "      <th>5</th>\n",
       "      <td>Indonesia</td>\n",
       "      <td>2006</td>\n",
       "    </tr>\n",
       "  </tbody>\n",
       "</table>\n",
       "</div>"
      ],
      "text/plain": [
       "     wilayah  tahun\n",
       "3  Indonesia   2004\n",
       "4  Indonesia   2005\n",
       "5  Indonesia   2006"
      ]
     },
     "execution_count": 18,
     "metadata": {},
     "output_type": "execute_result"
    }
   ],
   "source": [
    "subset = df.loc[3:5, selected_columns]\n",
    "subset"
   ]
  },
  {
   "cell_type": "code",
   "execution_count": 19,
   "metadata": {},
   "outputs": [
    {
     "data": {
      "text/html": [
       "<div>\n",
       "<style scoped>\n",
       "    .dataframe tbody tr th:only-of-type {\n",
       "        vertical-align: middle;\n",
       "    }\n",
       "\n",
       "    .dataframe tbody tr th {\n",
       "        vertical-align: top;\n",
       "    }\n",
       "\n",
       "    .dataframe thead th {\n",
       "        text-align: right;\n",
       "    }\n",
       "</style>\n",
       "<table border=\"1\" class=\"dataframe\">\n",
       "  <thead>\n",
       "    <tr style=\"text-align: right;\">\n",
       "      <th></th>\n",
       "      <th>wilayah</th>\n",
       "      <th>tahun</th>\n",
       "    </tr>\n",
       "  </thead>\n",
       "  <tbody>\n",
       "    <tr>\n",
       "      <th>3</th>\n",
       "      <td>Indonesia</td>\n",
       "      <td>2004</td>\n",
       "    </tr>\n",
       "    <tr>\n",
       "      <th>18</th>\n",
       "      <td>Aceh</td>\n",
       "      <td>2004</td>\n",
       "    </tr>\n",
       "    <tr>\n",
       "      <th>33</th>\n",
       "      <td>Sumatera Utara</td>\n",
       "      <td>2004</td>\n",
       "    </tr>\n",
       "    <tr>\n",
       "      <th>48</th>\n",
       "      <td>Sumatera Barat</td>\n",
       "      <td>2004</td>\n",
       "    </tr>\n",
       "    <tr>\n",
       "      <th>63</th>\n",
       "      <td>Riau</td>\n",
       "      <td>2004</td>\n",
       "    </tr>\n",
       "  </tbody>\n",
       "</table>\n",
       "</div>"
      ],
      "text/plain": [
       "           wilayah  tahun\n",
       "3        Indonesia   2004\n",
       "18            Aceh   2004\n",
       "33  Sumatera Utara   2004\n",
       "48  Sumatera Barat   2004\n",
       "63            Riau   2004"
      ]
     },
     "execution_count": 19,
     "metadata": {},
     "output_type": "execute_result"
    }
   ],
   "source": [
    "subset = df.loc[df[\"tahun\"] == 2004, selected_columns]\n",
    "subset.head()"
   ]
  },
  {
   "cell_type": "code",
   "execution_count": 20,
   "metadata": {},
   "outputs": [
    {
     "data": {
      "text/plain": [
       "array([2004], dtype=int64)"
      ]
     },
     "execution_count": 20,
     "metadata": {},
     "output_type": "execute_result"
    }
   ],
   "source": [
    "subset[\"tahun\"].unique()"
   ]
  },
  {
   "cell_type": "code",
   "execution_count": 21,
   "metadata": {},
   "outputs": [
    {
     "data": {
      "text/plain": [
       "1"
      ]
     },
     "execution_count": 21,
     "metadata": {},
     "output_type": "execute_result"
    }
   ],
   "source": [
    "subset[\"tahun\"].nunique()"
   ]
  },
  {
   "cell_type": "code",
   "execution_count": 22,
   "metadata": {},
   "outputs": [
    {
     "data": {
      "text/html": [
       "<div>\n",
       "<style scoped>\n",
       "    .dataframe tbody tr th:only-of-type {\n",
       "        vertical-align: middle;\n",
       "    }\n",
       "\n",
       "    .dataframe tbody tr th {\n",
       "        vertical-align: top;\n",
       "    }\n",
       "\n",
       "    .dataframe thead th {\n",
       "        text-align: right;\n",
       "    }\n",
       "</style>\n",
       "<table border=\"1\" class=\"dataframe\">\n",
       "  <thead>\n",
       "    <tr style=\"text-align: right;\">\n",
       "      <th></th>\n",
       "      <th>nama_series</th>\n",
       "      <th>kode_wilayah</th>\n",
       "      <th>wilayah</th>\n",
       "      <th>tahun</th>\n",
       "      <th>nilai</th>\n",
       "      <th>target</th>\n",
       "    </tr>\n",
       "  </thead>\n",
       "  <tbody>\n",
       "    <tr>\n",
       "      <th>0</th>\n",
       "      <td>Proporsi Penduduk yang Memiliki Telepon Selule...</td>\n",
       "      <td>1</td>\n",
       "      <td>Indonesia</td>\n",
       "      <td>2001</td>\n",
       "      <td>NaN</td>\n",
       "      <td>100.0</td>\n",
       "    </tr>\n",
       "    <tr>\n",
       "      <th>1</th>\n",
       "      <td>Proporsi Penduduk yang Memiliki Telepon Selule...</td>\n",
       "      <td>1</td>\n",
       "      <td>Indonesia</td>\n",
       "      <td>2002</td>\n",
       "      <td>NaN</td>\n",
       "      <td>100.0</td>\n",
       "    </tr>\n",
       "    <tr>\n",
       "      <th>2</th>\n",
       "      <td>Proporsi Penduduk yang Memiliki Telepon Selule...</td>\n",
       "      <td>1</td>\n",
       "      <td>Indonesia</td>\n",
       "      <td>2003</td>\n",
       "      <td>NaN</td>\n",
       "      <td>100.0</td>\n",
       "    </tr>\n",
       "    <tr>\n",
       "      <th>3</th>\n",
       "      <td>Proporsi Penduduk yang Memiliki Telepon Selule...</td>\n",
       "      <td>1</td>\n",
       "      <td>Indonesia</td>\n",
       "      <td>2004</td>\n",
       "      <td>NaN</td>\n",
       "      <td>100.0</td>\n",
       "    </tr>\n",
       "    <tr>\n",
       "      <th>15</th>\n",
       "      <td>Proporsi Penduduk yang Memiliki Telepon Selule...</td>\n",
       "      <td>11</td>\n",
       "      <td>Aceh</td>\n",
       "      <td>2001</td>\n",
       "      <td>NaN</td>\n",
       "      <td>NaN</td>\n",
       "    </tr>\n",
       "  </tbody>\n",
       "</table>\n",
       "</div>"
      ],
      "text/plain": [
       "                                          nama_series  kode_wilayah  \\\n",
       "0   Proporsi Penduduk yang Memiliki Telepon Selule...             1   \n",
       "1   Proporsi Penduduk yang Memiliki Telepon Selule...             1   \n",
       "2   Proporsi Penduduk yang Memiliki Telepon Selule...             1   \n",
       "3   Proporsi Penduduk yang Memiliki Telepon Selule...             1   \n",
       "15  Proporsi Penduduk yang Memiliki Telepon Selule...            11   \n",
       "\n",
       "      wilayah  tahun  nilai  target  \n",
       "0   Indonesia   2001    NaN   100.0  \n",
       "1   Indonesia   2002    NaN   100.0  \n",
       "2   Indonesia   2003    NaN   100.0  \n",
       "3   Indonesia   2004    NaN   100.0  \n",
       "15       Aceh   2001    NaN     NaN  "
      ]
     },
     "execution_count": 22,
     "metadata": {},
     "output_type": "execute_result"
    }
   ],
   "source": [
    "df[df[\"nilai\"].isnull()].head()"
   ]
  },
  {
   "cell_type": "code",
   "execution_count": 23,
   "metadata": {},
   "outputs": [
    {
     "data": {
      "text/html": [
       "<div>\n",
       "<style scoped>\n",
       "    .dataframe tbody tr th:only-of-type {\n",
       "        vertical-align: middle;\n",
       "    }\n",
       "\n",
       "    .dataframe tbody tr th {\n",
       "        vertical-align: top;\n",
       "    }\n",
       "\n",
       "    .dataframe thead th {\n",
       "        text-align: right;\n",
       "    }\n",
       "</style>\n",
       "<table border=\"1\" class=\"dataframe\">\n",
       "  <thead>\n",
       "    <tr style=\"text-align: right;\">\n",
       "      <th></th>\n",
       "      <th>nama_series</th>\n",
       "      <th>kode_wilayah</th>\n",
       "      <th>wilayah</th>\n",
       "      <th>tahun</th>\n",
       "      <th>nilai</th>\n",
       "      <th>target</th>\n",
       "    </tr>\n",
       "  </thead>\n",
       "  <tbody>\n",
       "    <tr>\n",
       "      <th>4</th>\n",
       "      <td>Proporsi Penduduk yang Memiliki Telepon Selule...</td>\n",
       "      <td>1</td>\n",
       "      <td>Indonesia</td>\n",
       "      <td>2005</td>\n",
       "      <td>8.19</td>\n",
       "      <td>100.0</td>\n",
       "    </tr>\n",
       "    <tr>\n",
       "      <th>5</th>\n",
       "      <td>Proporsi Penduduk yang Memiliki Telepon Selule...</td>\n",
       "      <td>1</td>\n",
       "      <td>Indonesia</td>\n",
       "      <td>2006</td>\n",
       "      <td>12.27</td>\n",
       "      <td>100.0</td>\n",
       "    </tr>\n",
       "    <tr>\n",
       "      <th>6</th>\n",
       "      <td>Proporsi Penduduk yang Memiliki Telepon Selule...</td>\n",
       "      <td>1</td>\n",
       "      <td>Indonesia</td>\n",
       "      <td>2007</td>\n",
       "      <td>24.33</td>\n",
       "      <td>100.0</td>\n",
       "    </tr>\n",
       "    <tr>\n",
       "      <th>7</th>\n",
       "      <td>Proporsi Penduduk yang Memiliki Telepon Selule...</td>\n",
       "      <td>1</td>\n",
       "      <td>Indonesia</td>\n",
       "      <td>2008</td>\n",
       "      <td>38.15</td>\n",
       "      <td>100.0</td>\n",
       "    </tr>\n",
       "    <tr>\n",
       "      <th>8</th>\n",
       "      <td>Proporsi Penduduk yang Memiliki Telepon Selule...</td>\n",
       "      <td>1</td>\n",
       "      <td>Indonesia</td>\n",
       "      <td>2009</td>\n",
       "      <td>49.21</td>\n",
       "      <td>100.0</td>\n",
       "    </tr>\n",
       "  </tbody>\n",
       "</table>\n",
       "</div>"
      ],
      "text/plain": [
       "                                         nama_series  kode_wilayah    wilayah  \\\n",
       "4  Proporsi Penduduk yang Memiliki Telepon Selule...             1  Indonesia   \n",
       "5  Proporsi Penduduk yang Memiliki Telepon Selule...             1  Indonesia   \n",
       "6  Proporsi Penduduk yang Memiliki Telepon Selule...             1  Indonesia   \n",
       "7  Proporsi Penduduk yang Memiliki Telepon Selule...             1  Indonesia   \n",
       "8  Proporsi Penduduk yang Memiliki Telepon Selule...             1  Indonesia   \n",
       "\n",
       "   tahun  nilai  target  \n",
       "4   2005   8.19   100.0  \n",
       "5   2006  12.27   100.0  \n",
       "6   2007  24.33   100.0  \n",
       "7   2008  38.15   100.0  \n",
       "8   2009  49.21   100.0  "
      ]
     },
     "execution_count": 23,
     "metadata": {},
     "output_type": "execute_result"
    }
   ],
   "source": [
    "df[~df[\"nilai\"].isnull()].head()"
   ]
  },
  {
   "cell_type": "markdown",
   "metadata": {},
   "source": [
    "## Mengeksplor Data"
   ]
  },
  {
   "cell_type": "code",
   "execution_count": 24,
   "metadata": {},
   "outputs": [
    {
     "data": {
      "text/plain": [
       "(525, 6)"
      ]
     },
     "execution_count": 24,
     "metadata": {},
     "output_type": "execute_result"
    }
   ],
   "source": [
    "df.shape"
   ]
  },
  {
   "cell_type": "code",
   "execution_count": 25,
   "metadata": {},
   "outputs": [
    {
     "data": {
      "text/html": [
       "<div>\n",
       "<style scoped>\n",
       "    .dataframe tbody tr th:only-of-type {\n",
       "        vertical-align: middle;\n",
       "    }\n",
       "\n",
       "    .dataframe tbody tr th {\n",
       "        vertical-align: top;\n",
       "    }\n",
       "\n",
       "    .dataframe thead th {\n",
       "        text-align: right;\n",
       "    }\n",
       "</style>\n",
       "<table border=\"1\" class=\"dataframe\">\n",
       "  <thead>\n",
       "    <tr style=\"text-align: right;\">\n",
       "      <th></th>\n",
       "      <th>kode_wilayah</th>\n",
       "      <th>tahun</th>\n",
       "      <th>nilai</th>\n",
       "      <th>target</th>\n",
       "    </tr>\n",
       "  </thead>\n",
       "  <tbody>\n",
       "    <tr>\n",
       "      <th>count</th>\n",
       "      <td>525.000000</td>\n",
       "      <td>525.000000</td>\n",
       "      <td>361.000000</td>\n",
       "      <td>15.0</td>\n",
       "    </tr>\n",
       "    <tr>\n",
       "      <th>mean</th>\n",
       "      <td>46.228571</td>\n",
       "      <td>2008.000000</td>\n",
       "      <td>53.558172</td>\n",
       "      <td>100.0</td>\n",
       "    </tr>\n",
       "    <tr>\n",
       "      <th>std</th>\n",
       "      <td>26.902161</td>\n",
       "      <td>4.324614</td>\n",
       "      <td>28.889846</td>\n",
       "      <td>0.0</td>\n",
       "    </tr>\n",
       "    <tr>\n",
       "      <th>min</th>\n",
       "      <td>1.000000</td>\n",
       "      <td>2001.000000</td>\n",
       "      <td>1.270000</td>\n",
       "      <td>100.0</td>\n",
       "    </tr>\n",
       "    <tr>\n",
       "      <th>25%</th>\n",
       "      <td>18.000000</td>\n",
       "      <td>2004.000000</td>\n",
       "      <td>25.870000</td>\n",
       "      <td>100.0</td>\n",
       "    </tr>\n",
       "    <tr>\n",
       "      <th>50%</th>\n",
       "      <td>51.000000</td>\n",
       "      <td>2008.000000</td>\n",
       "      <td>60.890000</td>\n",
       "      <td>100.0</td>\n",
       "    </tr>\n",
       "    <tr>\n",
       "      <th>75%</th>\n",
       "      <td>72.000000</td>\n",
       "      <td>2012.000000</td>\n",
       "      <td>80.230000</td>\n",
       "      <td>100.0</td>\n",
       "    </tr>\n",
       "    <tr>\n",
       "      <th>max</th>\n",
       "      <td>94.000000</td>\n",
       "      <td>2015.000000</td>\n",
       "      <td>94.050000</td>\n",
       "      <td>100.0</td>\n",
       "    </tr>\n",
       "  </tbody>\n",
       "</table>\n",
       "</div>"
      ],
      "text/plain": [
       "       kode_wilayah        tahun       nilai  target\n",
       "count    525.000000   525.000000  361.000000    15.0\n",
       "mean      46.228571  2008.000000   53.558172   100.0\n",
       "std       26.902161     4.324614   28.889846     0.0\n",
       "min        1.000000  2001.000000    1.270000   100.0\n",
       "25%       18.000000  2004.000000   25.870000   100.0\n",
       "50%       51.000000  2008.000000   60.890000   100.0\n",
       "75%       72.000000  2012.000000   80.230000   100.0\n",
       "max       94.000000  2015.000000   94.050000   100.0"
      ]
     },
     "execution_count": 25,
     "metadata": {},
     "output_type": "execute_result"
    }
   ],
   "source": [
    "df.describe()"
   ]
  },
  {
   "cell_type": "code",
   "execution_count": 26,
   "metadata": {},
   "outputs": [
    {
     "data": {
      "text/plain": [
       "count           525\n",
       "unique           35\n",
       "top       Indonesia\n",
       "freq             15\n",
       "Name: wilayah, dtype: object"
      ]
     },
     "execution_count": 26,
     "metadata": {},
     "output_type": "execute_result"
    }
   ],
   "source": [
    "df[\"wilayah\"].describe()"
   ]
  },
  {
   "cell_type": "code",
   "execution_count": 27,
   "metadata": {},
   "outputs": [
    {
     "data": {
      "text/plain": [
       "array(['Indonesia', 'Aceh', 'Sumatera Utara', 'Sumatera Barat', 'Riau',\n",
       "       'Jambi', 'Sumatera Selatan', 'Bengkulu', 'Lampung',\n",
       "       'Kepulauan Bangka Belitung', 'Kepulauan Riau', 'DKI Jakarta',\n",
       "       'Jawa Barat', 'Jawa Tengah', 'DI Yogyakarta', 'Jawa Timur',\n",
       "       'Banten', 'Bali', 'Nusa Tenggara Barat', 'Nusa Tenggara Timur',\n",
       "       'Kalimantan Barat', 'Kalimantan Tengah', 'Kalimantan Selatan',\n",
       "       'Kalimantan Timur', 'Kalimantan Utara', 'Sulawesi Utara',\n",
       "       'Sulawesi Tengah', 'Sulawesi Selatan', 'Sulawesi Tenggara',\n",
       "       'Gorontalo', 'Sulawesi Barat', 'Maluku', 'Maluku Utara',\n",
       "       'Papua Barat', 'Papua'], dtype=object)"
      ]
     },
     "execution_count": 27,
     "metadata": {},
     "output_type": "execute_result"
    }
   ],
   "source": [
    "df[\"wilayah\"].unique()"
   ]
  },
  {
   "cell_type": "code",
   "execution_count": 28,
   "metadata": {},
   "outputs": [
    {
     "name": "stdout",
     "output_type": "stream",
     "text": [
      "<class 'pandas.core.frame.DataFrame'>\n",
      "RangeIndex: 525 entries, 0 to 524\n",
      "Data columns (total 6 columns):\n",
      " #   Column        Non-Null Count  Dtype  \n",
      "---  ------        --------------  -----  \n",
      " 0   nama_series   525 non-null    object \n",
      " 1   kode_wilayah  525 non-null    int64  \n",
      " 2   wilayah       525 non-null    object \n",
      " 3   tahun         525 non-null    int64  \n",
      " 4   nilai         361 non-null    float64\n",
      " 5   target        15 non-null     float64\n",
      "dtypes: float64(2), int64(2), object(2)\n",
      "memory usage: 24.7+ KB\n"
     ]
    }
   ],
   "source": [
    "df.info()"
   ]
  },
  {
   "cell_type": "markdown",
   "metadata": {},
   "source": [
    "## Mengganti Tipe Kolom"
   ]
  },
  {
   "cell_type": "code",
   "execution_count": 29,
   "metadata": {},
   "outputs": [
    {
     "name": "stdout",
     "output_type": "stream",
     "text": [
      "<class 'pandas.core.frame.DataFrame'>\n",
      "RangeIndex: 525 entries, 0 to 524\n",
      "Data columns (total 6 columns):\n",
      " #   Column        Non-Null Count  Dtype  \n",
      "---  ------        --------------  -----  \n",
      " 0   nama_series   525 non-null    object \n",
      " 1   kode_wilayah  525 non-null    int64  \n",
      " 2   wilayah       525 non-null    object \n",
      " 3   tahun         525 non-null    object \n",
      " 4   nilai         361 non-null    float64\n",
      " 5   target        15 non-null     float64\n",
      "dtypes: float64(2), int64(1), object(3)\n",
      "memory usage: 24.7+ KB\n"
     ]
    }
   ],
   "source": [
    "df[\"tahun\"] = df[\"tahun\"].astype(\"str\")\n",
    "df.info()"
   ]
  },
  {
   "cell_type": "code",
   "execution_count": 31,
   "metadata": {},
   "outputs": [
    {
     "data": {
      "text/html": [
       "<div>\n",
       "<style scoped>\n",
       "    .dataframe tbody tr th:only-of-type {\n",
       "        vertical-align: middle;\n",
       "    }\n",
       "\n",
       "    .dataframe tbody tr th {\n",
       "        vertical-align: top;\n",
       "    }\n",
       "\n",
       "    .dataframe thead th {\n",
       "        text-align: right;\n",
       "    }\n",
       "</style>\n",
       "<table border=\"1\" class=\"dataframe\">\n",
       "  <thead>\n",
       "    <tr style=\"text-align: right;\">\n",
       "      <th></th>\n",
       "      <th>nama_series</th>\n",
       "      <th>kode_wilayah</th>\n",
       "      <th>wilayah</th>\n",
       "      <th>tahun</th>\n",
       "      <th>nilai</th>\n",
       "      <th>target</th>\n",
       "    </tr>\n",
       "  </thead>\n",
       "  <tbody>\n",
       "    <tr>\n",
       "      <th>0</th>\n",
       "      <td>Proporsi Penduduk yang Memiliki Telepon Selule...</td>\n",
       "      <td>1</td>\n",
       "      <td>Indonesia</td>\n",
       "      <td>2001</td>\n",
       "      <td>NaN</td>\n",
       "      <td>100.0</td>\n",
       "    </tr>\n",
       "    <tr>\n",
       "      <th>1</th>\n",
       "      <td>Proporsi Penduduk yang Memiliki Telepon Selule...</td>\n",
       "      <td>1</td>\n",
       "      <td>Indonesia</td>\n",
       "      <td>2002</td>\n",
       "      <td>NaN</td>\n",
       "      <td>100.0</td>\n",
       "    </tr>\n",
       "    <tr>\n",
       "      <th>2</th>\n",
       "      <td>Proporsi Penduduk yang Memiliki Telepon Selule...</td>\n",
       "      <td>1</td>\n",
       "      <td>Indonesia</td>\n",
       "      <td>2003</td>\n",
       "      <td>NaN</td>\n",
       "      <td>100.0</td>\n",
       "    </tr>\n",
       "    <tr>\n",
       "      <th>3</th>\n",
       "      <td>Proporsi Penduduk yang Memiliki Telepon Selule...</td>\n",
       "      <td>1</td>\n",
       "      <td>Indonesia</td>\n",
       "      <td>2004</td>\n",
       "      <td>NaN</td>\n",
       "      <td>100.0</td>\n",
       "    </tr>\n",
       "    <tr>\n",
       "      <th>4</th>\n",
       "      <td>Proporsi Penduduk yang Memiliki Telepon Selule...</td>\n",
       "      <td>1</td>\n",
       "      <td>Indonesia</td>\n",
       "      <td>2005</td>\n",
       "      <td>8.19</td>\n",
       "      <td>100.0</td>\n",
       "    </tr>\n",
       "  </tbody>\n",
       "</table>\n",
       "</div>"
      ],
      "text/plain": [
       "                                         nama_series kode_wilayah    wilayah  \\\n",
       "0  Proporsi Penduduk yang Memiliki Telepon Selule...            1  Indonesia   \n",
       "1  Proporsi Penduduk yang Memiliki Telepon Selule...            1  Indonesia   \n",
       "2  Proporsi Penduduk yang Memiliki Telepon Selule...            1  Indonesia   \n",
       "3  Proporsi Penduduk yang Memiliki Telepon Selule...            1  Indonesia   \n",
       "4  Proporsi Penduduk yang Memiliki Telepon Selule...            1  Indonesia   \n",
       "\n",
       "  tahun  nilai  target  \n",
       "0  2001    NaN   100.0  \n",
       "1  2002    NaN   100.0  \n",
       "2  2003    NaN   100.0  \n",
       "3  2004    NaN   100.0  \n",
       "4  2005   8.19   100.0  "
      ]
     },
     "execution_count": 31,
     "metadata": {},
     "output_type": "execute_result"
    }
   ],
   "source": [
    "df = pd.read_csv(\"C:/Users/bayuk/OneDrive/Documents/AI/pens/smtr2/Pemrosesan Data/2/penduduk_telepon_seluler_pedesaan.csv\", sep=\";\",\n",
    "dtype={\"tahun\": str, \"kode_wilayah\": str})\n",
    "df.head()"
   ]
  },
  {
   "cell_type": "code",
   "execution_count": 32,
   "metadata": {},
   "outputs": [
    {
     "name": "stdout",
     "output_type": "stream",
     "text": [
      "<class 'pandas.core.frame.DataFrame'>\n",
      "RangeIndex: 525 entries, 0 to 524\n",
      "Data columns (total 6 columns):\n",
      " #   Column        Non-Null Count  Dtype  \n",
      "---  ------        --------------  -----  \n",
      " 0   nama_series   525 non-null    object \n",
      " 1   kode_wilayah  525 non-null    object \n",
      " 2   wilayah       525 non-null    object \n",
      " 3   tahun         525 non-null    object \n",
      " 4   nilai         361 non-null    float64\n",
      " 5   target        15 non-null     float64\n",
      "dtypes: float64(2), object(4)\n",
      "memory usage: 24.7+ KB\n"
     ]
    }
   ],
   "source": [
    "df.info()"
   ]
  }
 ],
 "metadata": {
  "colab": {
   "collapsed_sections": [
    "0i4z4od98EzY"
   ],
   "name": "Data Preparation with Python - Part 1.ipynb",
   "provenance": [],
   "toc_visible": true,
   "version": "0.3.2"
  },
  "kernelspec": {
   "display_name": "Python 3 (ipykernel)",
   "language": "python",
   "name": "python3"
  },
  "language_info": {
   "codemirror_mode": {
    "name": "ipython",
    "version": 3
   },
   "file_extension": ".py",
   "mimetype": "text/x-python",
   "name": "python",
   "nbconvert_exporter": "python",
   "pygments_lexer": "ipython3",
   "version": "3.10.10"
  }
 },
 "nbformat": 4,
 "nbformat_minor": 1
}
