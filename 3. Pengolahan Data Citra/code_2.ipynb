{
 "cells": [
  {
   "cell_type": "code",
   "execution_count": null,
   "metadata": {},
   "outputs": [],
   "source": [
    "import cv2\n",
    "img = cv2.imread('C:/Users/bayuk/Downloads/WhatsApp Image 2023-03-07 at 16.59.16.jpeg')\n",
    "cv2.imshow('bayu', img)\n",
    "cv2.waitKey()\n",
    "cv2.imshow('bayu0', img[:,:,0])\n",
    "cv2.waitKey()\n",
    "cv2.imshow('bayu1', img[:,:,1])\n",
    "cv2.waitKey()\n",
    "cv2.imshow('bayu2', img[:,:,2])\n",
    "cv2.waitKey()\n",
    "\n"
   ]
  },
  {
   "cell_type": "code",
   "execution_count": 2,
   "metadata": {},
   "outputs": [
    {
     "name": "stdout",
     "output_type": "stream",
     "text": [
      "bayu [[[255 254 255]\n",
      "  [255 254 255]\n",
      "  [255 254 255]\n",
      "  ...\n",
      "  [ 63  85  56]\n",
      "  [ 72  92  63]\n",
      "  [ 82 100  69]]\n",
      "\n",
      " [[255 254 255]\n",
      "  [255 254 255]\n",
      "  [255 254 255]\n",
      "  ...\n",
      "  [ 65  87  58]\n",
      "  [ 75  96  64]\n",
      "  [ 84 102  71]]\n",
      "\n",
      " [[255 254 255]\n",
      "  [255 254 255]\n",
      "  [255 254 255]\n",
      "  ...\n",
      "  [ 68  90  61]\n",
      "  [ 76  97  65]\n",
      "  [ 84 105  72]]\n",
      "\n",
      " ...\n",
      "\n",
      " [[111 105 106]\n",
      "  [111 105 106]\n",
      "  [112 104 105]\n",
      "  ...\n",
      "  [ 58  72  60]\n",
      "  [ 58  75  62]\n",
      "  [ 58  75  62]]\n",
      "\n",
      " [[110 104 105]\n",
      "  [109 103 104]\n",
      "  [109 103 104]\n",
      "  ...\n",
      "  [ 59  73  61]\n",
      "  [ 58  75  62]\n",
      "  [ 58  75  62]]\n",
      "\n",
      " [[108 102 103]\n",
      "  [108 102 103]\n",
      "  [107 101 102]\n",
      "  ...\n",
      "  [ 60  74  62]\n",
      "  [ 58  75  62]\n",
      "  [ 59  76  63]]]\n",
      "bayu0 [[255 255 255 ...  63  72  82]\n",
      " [255 255 255 ...  65  75  84]\n",
      " [255 255 255 ...  68  76  84]\n",
      " ...\n",
      " [111 111 112 ...  58  58  58]\n",
      " [110 109 109 ...  59  58  58]\n",
      " [108 108 107 ...  60  58  59]]\n",
      "bayu1 [[254 254 254 ...  85  92 100]\n",
      " [254 254 254 ...  87  96 102]\n",
      " [254 254 254 ...  90  97 105]\n",
      " ...\n",
      " [105 105 104 ...  72  75  75]\n",
      " [104 103 103 ...  73  75  75]\n",
      " [102 102 101 ...  74  75  76]]\n",
      "bayu2 [[255 255 255 ...  56  63  69]\n",
      " [255 255 255 ...  58  64  71]\n",
      " [255 255 255 ...  61  65  72]\n",
      " ...\n",
      " [106 106 105 ...  60  62  62]\n",
      " [105 104 104 ...  61  62  62]\n",
      " [103 103 102 ...  62  62  63]]\n"
     ]
    },
    {
     "data": {
      "text/plain": [
       "-1"
      ]
     },
     "execution_count": 2,
     "metadata": {},
     "output_type": "execute_result"
    }
   ],
   "source": [
    "print('bayu', img) \n",
    "cv2.waitKey()\n",
    "print('bayu0', img[:,:,0])\n",
    "cv2.waitKey()\n",
    "print('bayu1', img[:,:,1])\n",
    "cv2.waitKey()\n",
    "print('bayu2', img[:,:,2])\n",
    "cv2.waitKey()"
   ]
  },
  {
   "cell_type": "code",
   "execution_count": 3,
   "metadata": {},
   "outputs": [
    {
     "name": "stdout",
     "output_type": "stream",
     "text": [
      "(1600, 1066, 3)\n",
      "5116800\n",
      "uint8\n"
     ]
    }
   ],
   "source": [
    "print(img.shape)\n",
    "print(img.size)\n",
    "print(img.dtype)"
   ]
  },
  {
   "cell_type": "code",
   "execution_count": 4,
   "metadata": {},
   "outputs": [
    {
     "name": "stdout",
     "output_type": "stream",
     "text": [
      "[[255 255 255 ...  63  72  82]\n",
      " [255 255 255 ...  65  75  84]\n",
      " [255 255 255 ...  68  76  84]\n",
      " ...\n",
      " [111 111 112 ...  58  58  58]\n",
      " [110 109 109 ...  59  58  58]\n",
      " [108 108 107 ...  60  58  59]]\n",
      "[[254 254 254 ...  85  92 100]\n",
      " [254 254 254 ...  87  96 102]\n",
      " [254 254 254 ...  90  97 105]\n",
      " ...\n",
      " [105 105 104 ...  72  75  75]\n",
      " [104 103 103 ...  73  75  75]\n",
      " [102 102 101 ...  74  75  76]]\n",
      "[[255 255 255 ...  56  63  69]\n",
      " [255 255 255 ...  58  64  71]\n",
      " [255 255 255 ...  61  65  72]\n",
      " ...\n",
      " [106 106 105 ...  60  62  62]\n",
      " [105 104 104 ...  61  62  62]\n",
      " [103 103 102 ...  62  62  63]]\n"
     ]
    }
   ],
   "source": [
    "# Band blue, green dan red masng-masing disimpan pada variabel b,g,r\n",
    "b, g, r = cv2.split(img)\n",
    "print(b)\n",
    "print(g)\n",
    "print(r)"
   ]
  },
  {
   "cell_type": "code",
   "execution_count": 5,
   "metadata": {},
   "outputs": [
    {
     "data": {
      "text/plain": [
       "-1"
      ]
     },
     "execution_count": 5,
     "metadata": {},
     "output_type": "execute_result"
    }
   ],
   "source": [
    "img=cv2.imread('C:/Users/bayuk/Downloads/WhatsApp Image 2023-03-07 at 16.59.16.jpeg')\n",
    "imageGray = cv2. cvtColor(img, cv2.COLOR_BGR2GRAY)\n",
    "cv2.imshow(\"bayu\",imageGray)\n",
    "cv2.waitKey()\n"
   ]
  },
  {
   "cell_type": "code",
   "execution_count": 6,
   "metadata": {},
   "outputs": [
    {
     "data": {
      "text/plain": [
       "-1"
      ]
     },
     "execution_count": 6,
     "metadata": {},
     "output_type": "execute_result"
    }
   ],
   "source": [
    "img=cv2.imread(\"C:/Users/bayuk/Downloads/WhatsApp Image 2023-03-07 at 16.59.16.jpeg\")\n",
    "resize = cv2.resize(img, (200, 200)) # Resize image to 200x200 pixel\n",
    "cv2.imshow(\"bayu\", resize)\n",
    "cv2.waitKey(0)\n",
    "#cv2.destroyAllWindows()\n"
   ]
  },
  {
   "cell_type": "code",
   "execution_count": 7,
   "metadata": {},
   "outputs": [],
   "source": [
    "img=cv2.imread(\"C:/Users/bayuk/Downloads/WhatsApp Image 2023-03-07 at 16.59.16.jpeg\")\n",
    "resize = cv2.resize(img, (int(img.shape[0]*2), int(img.shape[1]*2))) \n",
    "# mengubah ukuran citra menajadi 2x ukuran citra asli\n",
    "cv2.imshow(\"bayu\", resize)\n",
    "cv2.waitKey(0)\n",
    "cv2.destroyAllWindows()\n"
   ]
  },
  {
   "cell_type": "code",
   "execution_count": 8,
   "metadata": {},
   "outputs": [],
   "source": [
    "img=cv2.imread(\"C:/Users/bayuk/Downloads/WhatsApp Image 2023-03-07 at 16.59.16.jpeg\")\n",
    "#menyompan hasil modifikasi citra\n",
    "resize = cv2.resize(img, (int(img.shape[0]*2), int(img.shape[1]*2))) \n",
    "# mengubah ukuran citra menajadi 2x ukuran citra asli\n",
    "cv2.imshow(\"bayu resize\", resize)\n",
    "cv2.imwrite(\"bayu_resize.jpg\", resize)\n",
    " # menyimpan citra baru yang sudah diperbesar 2x\n",
    "cv2.waitKey(0)\n",
    "cv2.destroyAllWindows()\n"
   ]
  },
  {
   "cell_type": "code",
   "execution_count": null,
   "metadata": {},
   "outputs": [],
   "source": [
    "import cv2\n",
    "img=cv2.imread(\"C:/Users/bayuk/Downloads/WhatsApp Image 2023-03-07 at 16.59.16.jpeg\")\n",
    "cv2.imshow('Hasil Inversi',img)\n",
    "hasil = 255-img\n",
    "cv2.imshow('Hasil Inversi',hasil)\n",
    "cv2.waitKey(0)\n",
    "cv2.destroyAllWindows()\n"
   ]
  },
  {
   "cell_type": "code",
   "execution_count": null,
   "metadata": {},
   "outputs": [],
   "source": [
    "cv.calcHist(images, channels, mask, histSize, ranges[, hist[, accumulate]])\n"
   ]
  },
  {
   "cell_type": "code",
   "execution_count": null,
   "metadata": {},
   "outputs": [],
   "source": [
    "# memanggil library yang dibutuhkan\n",
    "import cv2\n",
    "import numpy as np\n",
    "from matplotlib import pyplot as plt\n",
    "img=cv2.imread(\"C:/Users/bayuk/Downloads/WhatsApp Image 2023-03-07 at 16.59.16.jpeg\")\n",
    "color = ('b','g','r')\n",
    "for i,col in enumerate(color):\n",
    "      histr = cv2.calcHist([img],[i],None,[256],[0,256])\n",
    "      plt.plot(histr,color = col)\n",
    "      plt.xlim([0,256])\n",
    "plt.show()"
   ]
  },
  {
   "cell_type": "code",
   "execution_count": null,
   "metadata": {},
   "outputs": [],
   "source": [
    "import cv2\n",
    "import numpy as np\n",
    "from matplotlib import pyplot as plt\n",
    "img = cv2.imread(\"C:/Users/bayuk/Downloads/WhatsApp Image 2023-03-07 at 16.59.16.jpeg\")\n",
    "hist,bins =np.histogram(img.flatten(),256,[0,256])\n",
    "cdf = hist.cumsum()\n",
    "cdf_normalized = cdf * hist.max()/cdf.max()\n",
    "plt.plot(cdf_normalized, color ='b')\n",
    "plt.hist(img.flatten(),256,[0,256],color = 'r')\n",
    "plt.xlim([0,256])\n",
    "plt.legend(('cdf','histogram'), loc= 'upper left')\n",
    "plt.show()\n"
   ]
  }
 ],
 "metadata": {
  "kernelspec": {
   "display_name": "Python 3 (ipykernel)",
   "language": "python",
   "name": "python3"
  },
  "language_info": {
   "codemirror_mode": {
    "name": "ipython",
    "version": 3
   },
   "file_extension": ".py",
   "mimetype": "text/x-python",
   "name": "python",
   "nbconvert_exporter": "python",
   "pygments_lexer": "ipython3",
   "version": "3.10.10"
  }
 },
 "nbformat": 4,
 "nbformat_minor": 2
}
